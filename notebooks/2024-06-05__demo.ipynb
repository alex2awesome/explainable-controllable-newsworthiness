{
 "cells": [
  {
   "cell_type": "code",
   "execution_count": null,
   "id": "78ed8bbe-25cd-445d-9c7c-f89fd7e2e130",
   "metadata": {},
   "outputs": [],
   "source": [
    "! mkdir ../data\n",
    "! wget https://storage.googleapis.com/usc-data/newsworthiness-project/final-matching-articles-and-meetings.csv\n",
    "! wget https://storage.googleapis.com/usc-data/newsworthiness-project/full-meeting-data-with-headers.jsonl.zip\n",
    "! wget https://storage.googleapis.com/usc-data/newsworthiness-project/full_newsworthiness_training_data.jsonl\n",
    "! wget https://storage.googleapis.com/usc-data/newsworthiness-project/sfchron-fetched-articles.jsonl.zip"
   ]
  },
  {
   "cell_type": "code",
   "execution_count": 67,
   "id": "e03c7c1b-4583-48de-9d1d-1e5bb3d1336e",
   "metadata": {},
   "outputs": [],
   "source": [
    "# unzip these files and put them in the ../data directory\n",
    "# ... "
   ]
  },
  {
   "cell_type": "markdown",
   "id": "b81807d7-e951-4dd5-8f86-ea7b7458ee43",
   "metadata": {},
   "source": [
    "# Reading in City Council Minutes"
   ]
  },
  {
   "cell_type": "markdown",
   "id": "295cb9af-0b71-4cc0-9a7d-7175ea24f4a2",
   "metadata": {},
   "source": [
    "First, we read in the transcribed city city council meeting minutes. These were all obtained by downloading videos from these pages: https://sanfrancisco.granicus.com/player/clip/43243?view_id=10&meta_id=992444&redirect=true&h=b9650faa96d53d07034d556d92f18771"
   ]
  },
  {
   "cell_type": "code",
   "execution_count": null,
   "id": "358e1773-a932-460e-83f0-4c954448aae3",
   "metadata": {},
   "outputs": [],
   "source": [
    "import os \n",
    "import glob\n",
    "import pandas as pd \n",
    "city_council_data_df = pd.read_json('../data/full_newsworthiness_training_data.jsonl',  lines=True)"
   ]
  },
  {
   "cell_type": "markdown",
   "id": "9d1660f0-f5df-498f-9560-0ea42a1a0fb9",
   "metadata": {},
   "source": [
    "These city council minutes have a `label` column that is `True` or `False`. This label column indicates whether or not the city council policy has been written about in news articles."
   ]
  },
  {
   "cell_type": "code",
   "execution_count": 48,
   "id": "90f8a348-b0fc-4a64-8468-879ab433ed3c",
   "metadata": {},
   "outputs": [
    {
     "data": {
      "text/html": [
       "<div>\n",
       "<style scoped>\n",
       "    .dataframe tbody tr th:only-of-type {\n",
       "        vertical-align: middle;\n",
       "    }\n",
       "\n",
       "    .dataframe tbody tr th {\n",
       "        vertical-align: top;\n",
       "    }\n",
       "\n",
       "    .dataframe thead th {\n",
       "        text-align: right;\n",
       "    }\n",
       "</style>\n",
       "<table border=\"1\" class=\"dataframe\">\n",
       "  <thead>\n",
       "    <tr style=\"text-align: right;\">\n",
       "      <th></th>\n",
       "      <th>clip_id</th>\n",
       "      <th>index</th>\n",
       "      <th>class_name</th>\n",
       "      <th>text</th>\n",
       "      <th>time</th>\n",
       "      <th>proposal_number</th>\n",
       "      <th>end_time</th>\n",
       "      <th>header</th>\n",
       "      <th>transcribed_text</th>\n",
       "      <th>label</th>\n",
       "      <th>date</th>\n",
       "    </tr>\n",
       "  </thead>\n",
       "  <tbody>\n",
       "    <tr>\n",
       "      <th>0</th>\n",
       "      <td>16637</td>\n",
       "      <td>18</td>\n",
       "      <td>agenda0</td>\n",
       "      <td>130031 Pursuant to Charter Sections 2.103 and ...</td>\n",
       "      <td>633.004</td>\n",
       "      <td>130031</td>\n",
       "      <td>635.705</td>\n",
       "      <td>COMMUNICATION</td>\n",
       "      <td>[{'text': ' Colleagues, Madam Clerk, why don't...</td>\n",
       "      <td>False</td>\n",
       "      <td>2013-01-15</td>\n",
       "    </tr>\n",
       "    <tr>\n",
       "      <th>1</th>\n",
       "      <td>16637</td>\n",
       "      <td>24</td>\n",
       "      <td>agenda0</td>\n",
       "      <td>121007 Ordinance authorizing, pursuant to Char...</td>\n",
       "      <td>903.883</td>\n",
       "      <td>121007</td>\n",
       "      <td>918.880</td>\n",
       "      <td>CONSENT AGENDA</td>\n",
       "      <td>[{'text': 'Madam Clerk, could you please call ...</td>\n",
       "      <td>False</td>\n",
       "      <td>2013-01-15</td>\n",
       "    </tr>\n",
       "    <tr>\n",
       "      <th>2</th>\n",
       "      <td>16637</td>\n",
       "      <td>25</td>\n",
       "      <td>agenda0</td>\n",
       "      <td>121064 Ordinance amending the San Francisco Bu...</td>\n",
       "      <td>918.880</td>\n",
       "      <td>121064</td>\n",
       "      <td>942.348</td>\n",
       "      <td>CONSENT AGENDA</td>\n",
       "      <td>[{'text': ' Thank you.', 'speaker': 'SPEAKER_2...</td>\n",
       "      <td>False</td>\n",
       "      <td>2013-01-15</td>\n",
       "    </tr>\n",
       "    <tr>\n",
       "      <th>3</th>\n",
       "      <td>16637</td>\n",
       "      <td>26</td>\n",
       "      <td>agenda0</td>\n",
       "      <td>121139 Resolution approving and authorizing th...</td>\n",
       "      <td>942.348</td>\n",
       "      <td>121139</td>\n",
       "      <td>959.000</td>\n",
       "      <td>CONSENT AGENDA</td>\n",
       "      <td>[{'text': 'This has been kind of a longstandin...</td>\n",
       "      <td>False</td>\n",
       "      <td>2013-01-15</td>\n",
       "    </tr>\n",
       "    <tr>\n",
       "      <th>4</th>\n",
       "      <td>16637</td>\n",
       "      <td>41</td>\n",
       "      <td>agenda0</td>\n",
       "      <td>120997 Ordinance appropriating $843,000 of Sta...</td>\n",
       "      <td>959.000</td>\n",
       "      <td>120997</td>\n",
       "      <td>959.000</td>\n",
       "      <td>CONSENT AGENDA</td>\n",
       "      <td>[{'text': 'Last year alone, I'm sorry, since 2...</td>\n",
       "      <td>False</td>\n",
       "      <td>2013-01-15</td>\n",
       "    </tr>\n",
       "  </tbody>\n",
       "</table>\n",
       "</div>"
      ],
      "text/plain": [
       "   clip_id  index class_name  \\\n",
       "0    16637     18    agenda0   \n",
       "1    16637     24    agenda0   \n",
       "2    16637     25    agenda0   \n",
       "3    16637     26    agenda0   \n",
       "4    16637     41    agenda0   \n",
       "\n",
       "                                                text     time  \\\n",
       "0  130031 Pursuant to Charter Sections 2.103 and ...  633.004   \n",
       "1  121007 Ordinance authorizing, pursuant to Char...  903.883   \n",
       "2  121064 Ordinance amending the San Francisco Bu...  918.880   \n",
       "3  121139 Resolution approving and authorizing th...  942.348   \n",
       "4  120997 Ordinance appropriating $843,000 of Sta...  959.000   \n",
       "\n",
       "   proposal_number  end_time          header  \\\n",
       "0           130031   635.705   COMMUNICATION   \n",
       "1           121007   918.880  CONSENT AGENDA   \n",
       "2           121064   942.348  CONSENT AGENDA   \n",
       "3           121139   959.000  CONSENT AGENDA   \n",
       "4           120997   959.000  CONSENT AGENDA   \n",
       "\n",
       "                                    transcribed_text  label       date  \n",
       "0  [{'text': ' Colleagues, Madam Clerk, why don't...  False 2013-01-15  \n",
       "1  [{'text': 'Madam Clerk, could you please call ...  False 2013-01-15  \n",
       "2  [{'text': ' Thank you.', 'speaker': 'SPEAKER_2...  False 2013-01-15  \n",
       "3  [{'text': 'This has been kind of a longstandin...  False 2013-01-15  \n",
       "4  [{'text': 'Last year alone, I'm sorry, since 2...  False 2013-01-15  "
      ]
     },
     "execution_count": 48,
     "metadata": {},
     "output_type": "execute_result"
    }
   ],
   "source": [
    "city_council_data_df.head()"
   ]
  },
  {
   "cell_type": "markdown",
   "id": "3e4a44f4-d0db-40a0-9706-d6b18b8db37c",
   "metadata": {},
   "source": [
    "The transcribed text of the city council meeting looks like this, with time-stamps and a speaker ID (these are randomly assigned, but used to track the speaker across the entire course of the meeting.)"
   ]
  },
  {
   "cell_type": "code",
   "execution_count": 50,
   "id": "435c2ead-5f8c-406d-9c08-e323164cf266",
   "metadata": {},
   "outputs": [
    {
     "data": {
      "text/plain": [
       "[{'text': 'Madam Clerk, could you please call item 12?',\n",
       "  'speaker': 'SPEAKER_29',\n",
       "  'start': 902.02,\n",
       "  'end': 903.883},\n",
       " {'text': ' Item 12 is an ordinance appropriating $843,000 of state reserves and approximately $1.4 million from school districts set aside funds for the San Francisco Unified School District for fiscal year 2012 through 2013.',\n",
       "  'speaker': 'SPEAKER_28',\n",
       "  'start': 903.883,\n",
       "  'end': 915.267},\n",
       " {'text': 'Supervisor Kim.',\n",
       "  'speaker': 'SPEAKER_28',\n",
       "  'start': 915.267,\n",
       "  'end': 918.44},\n",
       " {'text': ' Thank you.',\n",
       "  'speaker': 'SPEAKER_24',\n",
       "  'start': 918.44,\n",
       "  'end': 918.88},\n",
       " {'text': 'I realize that we are now finally coming to near end on discussion around the supplemental appropriation, and I just want to take a moment to thank my co-sponsors, Supervisors Campos, Marr, and Avalos, and also to Supervisors Cohen and Chu for your support for this supplemental.',\n",
       "  'speaker': 'SPEAKER_24',\n",
       "  'start': 918.88,\n",
       "  'end': 937.206}]"
      ]
     },
     "execution_count": 50,
     "metadata": {},
     "output_type": "execute_result"
    }
   ],
   "source": [
    "city_council_data_df['transcribed_text'].iloc[1]"
   ]
  },
  {
   "cell_type": "markdown",
   "id": "0ccff15f-b927-4b5c-a7af-c133557b1124",
   "metadata": {},
   "source": [
    "# Meetings and Articles"
   ]
  },
  {
   "cell_type": "markdown",
   "id": "2ff2015a-6832-4803-a4ef-cf79f1d48baf",
   "metadata": {},
   "source": [
    "Now, let's go deeper into the data we did in the last project, which shows the news articles along with the city council proposal text:"
   ]
  },
  {
   "cell_type": "code",
   "execution_count": 72,
   "id": "aa82dea1-0738-468c-8b94-718a17a82d33",
   "metadata": {
    "scrolled": true
   },
   "outputs": [],
   "source": [
    "final_matching_df = pd.read_csv('../data/final-matching-articles-and-meetings.csv', index_col=0)"
   ]
  },
  {
   "cell_type": "code",
   "execution_count": 56,
   "id": "bbb301cf-9623-4758-8916-8d6295850353",
   "metadata": {},
   "outputs": [
    {
     "name": "stdout",
     "output_type": "stream",
     "text": [
      "On Tuesday, the San Francisco Board of Supervisors will for the second time this summer consider amendments to the Airbnb law regulating short-term rentals to fix the mess former Supervisor David Chiu's industry-sponsored bill created last year. The Board of Supervisors has an opportunity to find a compromise to show that a city can fully embrace home sharing and also restrict landlords from operating illegal hotels. Six months of reports and analyses from government agencies, the media, Airbnb and an academic study provide the data that the Board of Supervisors needs to support an ordinance that facilitates legal short-term renting while giving government agencies tools for proactively regulating away the bad actors. The Board of Supervisors needs to find a reasonable compromise on home sharing so that we can get back to confronting San Francisco's larger housing challenge.\n",
      "\n",
      "On Tuesday, the San Francisco Board of Supervisors will for the second time this summer consider amendments to the Airbnb law regulating short-term rentals to fix the mess former Supervisor David Chiu's industry-sponsored bill created last year. Unfortunately, the competing amendments and upcoming ballot measure present the public with options that are either unnecessarily restrictive or, like the original law, rely too heavily on complaint-based enforcement. This would mean either the avoidable loss of increased tax dollars and income for residents or accepting the conversion of some rental housing to illegal hotels.\n"
     ]
    }
   ],
   "source": [
    "# this is a snipped of the news article that covered the city council minute\n",
    "\n",
    "print(final_matching_df['summary_text'].iloc[0])"
   ]
  },
  {
   "cell_type": "code",
   "execution_count": 55,
   "id": "7a18f35c-d5bf-4d90-be6d-12e4465284b2",
   "metadata": {},
   "outputs": [
    {
     "data": {
      "text/plain": [
       "\"Administrative Code - Short-Term Residential Rentals. Ordinance amending the Administrative Code to revise the Residential Unit Conversion Ordinance to: revise the definition of interested parties who may enforce the provisions of Chapter 41A, through a private right of action to include permanent residents residing within 100 feet of the residential unit; create an additional private right of action under certain circumstances; change the administrative hearing process from mandatory to at the request of any party found in violation of this Chapter; create an Office of Short-Term Residential Rental Administration and Enforcement staffed by the Planning Department, Department of Building Inspection, and Tax Collector's Office; and affirming the Planning Department's determination under the California Environmental Quality Act.\""
      ]
     },
     "execution_count": 55,
     "metadata": {},
     "output_type": "execute_result"
    }
   ],
   "source": [
    "# this is the proposal text\n",
    "\n",
    "final_matching_df['meeting text'].iloc[0]"
   ]
  },
  {
   "cell_type": "code",
   "execution_count": 86,
   "id": "506de22b-48a1-4f78-b620-4c79cbb03fc9",
   "metadata": {},
   "outputs": [
    {
     "data": {
      "text/plain": [
       "label\n",
       "False    15799\n",
       "True      1301\n",
       "Name: count, dtype: int64"
      ]
     },
     "execution_count": 86,
     "metadata": {},
     "output_type": "execute_result"
    }
   ],
   "source": [
    "# these are how many city council minutes were covered\n",
    "\n",
    "city_council_data_df['label'].value_counts()"
   ]
  },
  {
   "cell_type": "code",
   "execution_count": null,
   "id": "881e30b4-c7bf-4f4b-a73c-bffa86684932",
   "metadata": {},
   "outputs": [],
   "source": []
  },
  {
   "cell_type": "markdown",
   "id": "744f3a97-3e6c-45ed-a47c-21ac213bc0c1",
   "metadata": {},
   "source": [
    "# Additional information (if needed)"
   ]
  },
  {
   "cell_type": "markdown",
   "id": "1d9474da-ec55-4776-b16f-d04424168087",
   "metadata": {},
   "source": [
    "Here is some more information about both the meeting and the news articles if you need them."
   ]
  },
  {
   "cell_type": "code",
   "execution_count": 88,
   "id": "dcded316-b73e-4ae1-82cf-50f368593416",
   "metadata": {},
   "outputs": [],
   "source": [
    "# full article information/ text\n",
    "# the original final_matching_df doesn't have the full article text, \n",
    "# so you might want to look at the actual text\n",
    "\n",
    "json_file = '../data/sfchron-fetched-articles.jsonl'\n",
    "articles = []\n",
    "import json\n",
    "for line in open(json_file):\n",
    "    articles.append(json.loads(line))\n",
    "\n",
    "sf_articles_df = pd.DataFrame(articles)\n",
    "\n",
    "final_matching_df['key'] = (final_matching_df['article_url']\n",
    "     .str.split(')')\n",
    "     .str.get(-1)\n",
    "     .str.replace('https://', 'http://')\n",
    "     .str.replace('www.', '')\n",
    "     .str.replace('http://sfchronicle.com', '')\n",
    ")"
   ]
  },
  {
   "cell_type": "code",
   "execution_count": 89,
   "id": "f0c60d2c-9404-419f-8f6a-586faecf0efe",
   "metadata": {},
   "outputs": [
    {
     "data": {
      "text/html": [
       "<div>\n",
       "<style scoped>\n",
       "    .dataframe tbody tr th:only-of-type {\n",
       "        vertical-align: middle;\n",
       "    }\n",
       "\n",
       "    .dataframe tbody tr th {\n",
       "        vertical-align: top;\n",
       "    }\n",
       "\n",
       "    .dataframe thead th {\n",
       "        text-align: right;\n",
       "    }\n",
       "</style>\n",
       "<table border=\"1\" class=\"dataframe\">\n",
       "  <thead>\n",
       "    <tr style=\"text-align: right;\">\n",
       "      <th></th>\n",
       "      <th>key</th>\n",
       "      <th>article_text</th>\n",
       "      <th>city</th>\n",
       "      <th>committee</th>\n",
       "      <th>meeting date</th>\n",
       "      <th>File #</th>\n",
       "      <th>meeting text</th>\n",
       "      <th>summary_text</th>\n",
       "      <th>article_url</th>\n",
       "      <th>article_publish_date</th>\n",
       "    </tr>\n",
       "  </thead>\n",
       "  <tbody>\n",
       "    <tr>\n",
       "      <th>0</th>\n",
       "      <td>/bayarea/article/Botanical-Garden-fee-isn-t-ke...</td>\n",
       "      <td>Stopping to smell the roses and other exotic p...</td>\n",
       "      <td>San Francisco</td>\n",
       "      <td>Board of Supervisors</td>\n",
       "      <td>2013-07-23</td>\n",
       "      <td>130548</td>\n",
       "      <td>Park Code - Various Fees. Ordinance amending t...</td>\n",
       "      <td>On Tuesday, the Board of Supervisors will deci...</td>\n",
       "      <td>http://www.sfchronicle.com/bayarea/article/Bot...</td>\n",
       "      <td>2013-08-21 14:00:46+00:00</td>\n",
       "    </tr>\n",
       "    <tr>\n",
       "      <th>1</th>\n",
       "      <td>/bayarea/article/Botanical-Garden-fee-isn-t-ke...</td>\n",
       "      <td>Stopping to smell the roses and other exotic p...</td>\n",
       "      <td>San Francisco</td>\n",
       "      <td>Board of Supervisors</td>\n",
       "      <td>2013-07-23</td>\n",
       "      <td>130537</td>\n",
       "      <td>Lease and Management Agreement - Botanical Gar...</td>\n",
       "      <td>On Tuesday, the Board of Supervisors will deci...</td>\n",
       "      <td>http://www.sfchronicle.com/bayarea/article/Bot...</td>\n",
       "      <td>2013-08-21 14:00:46+00:00</td>\n",
       "    </tr>\n",
       "    <tr>\n",
       "      <th>2</th>\n",
       "      <td>/bayarea/matier-ross/article/Push-for-private-...</td>\n",
       "      <td>Sheriff Ross Mirkarimi acknowledges last week ...</td>\n",
       "      <td>San Francisco</td>\n",
       "      <td>Board of Supervisors</td>\n",
       "      <td>2013-12-10</td>\n",
       "      <td>131084</td>\n",
       "      <td>Appropriation - General Hospital Improvement G...</td>\n",
       "      <td>San Francisco General Hospital officials tried...</td>\n",
       "      <td>http://www.sfchronicle.com/bayarea/matier-ross...</td>\n",
       "      <td>2013-11-13 02:51:50+00:00</td>\n",
       "    </tr>\n",
       "    <tr>\n",
       "      <th>3</th>\n",
       "      <td>/bayarea/matier-ross/article/Push-for-private-...</td>\n",
       "      <td>Sheriff Ross Mirkarimi acknowledges last week ...</td>\n",
       "      <td>San Francisco</td>\n",
       "      <td>Board of Supervisors</td>\n",
       "      <td>2013-10-29</td>\n",
       "      <td>130922</td>\n",
       "      <td>Collective Bargaining Agreement, Amendment No....</td>\n",
       "      <td>San Francisco General Hospital officials tried...</td>\n",
       "      <td>http://www.sfchronicle.com/bayarea/matier-ross...</td>\n",
       "      <td>2013-11-13 02:51:50+00:00</td>\n",
       "    </tr>\n",
       "    <tr>\n",
       "      <th>4</th>\n",
       "      <td>/bayarea/article/S-F-General-Sheriff-s-Dept-bl...</td>\n",
       "      <td>San Francisco General Hospital nurses failed t...</td>\n",
       "      <td>San Francisco</td>\n",
       "      <td>Board of Supervisors</td>\n",
       "      <td>2014-03-04</td>\n",
       "      <td>131229</td>\n",
       "      <td>Contract - Sheriff's Department - Secure Reent...</td>\n",
       "      <td>Hospital officials told the investigators that...</td>\n",
       "      <td>http://www.sfchronicle.com/bayarea/article/S-F...</td>\n",
       "      <td>2014-02-02 01:58:27+00:00</td>\n",
       "    </tr>\n",
       "  </tbody>\n",
       "</table>\n",
       "</div>"
      ],
      "text/plain": [
       "                                                 key  \\\n",
       "0  /bayarea/article/Botanical-Garden-fee-isn-t-ke...   \n",
       "1  /bayarea/article/Botanical-Garden-fee-isn-t-ke...   \n",
       "2  /bayarea/matier-ross/article/Push-for-private-...   \n",
       "3  /bayarea/matier-ross/article/Push-for-private-...   \n",
       "4  /bayarea/article/S-F-General-Sheriff-s-Dept-bl...   \n",
       "\n",
       "                                        article_text           city  \\\n",
       "0  Stopping to smell the roses and other exotic p...  San Francisco   \n",
       "1  Stopping to smell the roses and other exotic p...  San Francisco   \n",
       "2  Sheriff Ross Mirkarimi acknowledges last week ...  San Francisco   \n",
       "3  Sheriff Ross Mirkarimi acknowledges last week ...  San Francisco   \n",
       "4  San Francisco General Hospital nurses failed t...  San Francisco   \n",
       "\n",
       "              committee meeting date  File #  \\\n",
       "0  Board of Supervisors   2013-07-23  130548   \n",
       "1  Board of Supervisors   2013-07-23  130537   \n",
       "2  Board of Supervisors   2013-12-10  131084   \n",
       "3  Board of Supervisors   2013-10-29  130922   \n",
       "4  Board of Supervisors   2014-03-04  131229   \n",
       "\n",
       "                                        meeting text  \\\n",
       "0  Park Code - Various Fees. Ordinance amending t...   \n",
       "1  Lease and Management Agreement - Botanical Gar...   \n",
       "2  Appropriation - General Hospital Improvement G...   \n",
       "3  Collective Bargaining Agreement, Amendment No....   \n",
       "4  Contract - Sheriff's Department - Secure Reent...   \n",
       "\n",
       "                                        summary_text  \\\n",
       "0  On Tuesday, the Board of Supervisors will deci...   \n",
       "1  On Tuesday, the Board of Supervisors will deci...   \n",
       "2  San Francisco General Hospital officials tried...   \n",
       "3  San Francisco General Hospital officials tried...   \n",
       "4  Hospital officials told the investigators that...   \n",
       "\n",
       "                                         article_url  \\\n",
       "0  http://www.sfchronicle.com/bayarea/article/Bot...   \n",
       "1  http://www.sfchronicle.com/bayarea/article/Bot...   \n",
       "2  http://www.sfchronicle.com/bayarea/matier-ross...   \n",
       "3  http://www.sfchronicle.com/bayarea/matier-ross...   \n",
       "4  http://www.sfchronicle.com/bayarea/article/S-F...   \n",
       "\n",
       "        article_publish_date  \n",
       "0  2013-08-21 14:00:46+00:00  \n",
       "1  2013-08-21 14:00:46+00:00  \n",
       "2  2013-11-13 02:51:50+00:00  \n",
       "3  2013-11-13 02:51:50+00:00  \n",
       "4  2014-02-02 01:58:27+00:00  "
      ]
     },
     "execution_count": 89,
     "metadata": {},
     "output_type": "execute_result"
    }
   ],
   "source": [
    "matching_df_with_full_text = (\n",
    "    sf_articles_df\n",
    "         .assign(key=lambda df: df['article_url'].str.split('sfchronicle.com').str.get(-1))\n",
    "         [['key', 'article_text']]\n",
    "         .merge(final_matching_df, on='key')\n",
    ")\n",
    "\n",
    "matching_df_with_full_text.head()"
   ]
  },
  {
   "cell_type": "code",
   "execution_count": 74,
   "id": "c2584111-add2-45e2-84e0-6028ca2750e6",
   "metadata": {},
   "outputs": [
    {
     "data": {
      "text/html": [
       "<div>\n",
       "<style scoped>\n",
       "    .dataframe tbody tr th:only-of-type {\n",
       "        vertical-align: middle;\n",
       "    }\n",
       "\n",
       "    .dataframe tbody tr th {\n",
       "        vertical-align: top;\n",
       "    }\n",
       "\n",
       "    .dataframe thead th {\n",
       "        text-align: right;\n",
       "    }\n",
       "</style>\n",
       "<table border=\"1\" class=\"dataframe\">\n",
       "  <thead>\n",
       "    <tr style=\"text-align: right;\">\n",
       "      <th></th>\n",
       "      <th>clip_id</th>\n",
       "      <th>index</th>\n",
       "      <th>class_name</th>\n",
       "      <th>text</th>\n",
       "      <th>time</th>\n",
       "      <th>proposal_number</th>\n",
       "      <th>end_time</th>\n",
       "      <th>header</th>\n",
       "      <th>transcribed_text</th>\n",
       "      <th>speakers</th>\n",
       "    </tr>\n",
       "  </thead>\n",
       "  <tbody>\n",
       "    <tr>\n",
       "      <th>0</th>\n",
       "      <td>16593</td>\n",
       "      <td>0</td>\n",
       "      <td>agenda0</td>\n",
       "      <td>1 ROLL CALL AND PLEDGE OF ALLEGIANCE</td>\n",
       "      <td>122.0</td>\n",
       "      <td>NaN</td>\n",
       "      <td>123.0</td>\n",
       "      <td>ROLL CALL</td>\n",
       "      <td>[{'text': 'The first is a communication from t...</td>\n",
       "      <td>[SPEAKER_27]</td>\n",
       "    </tr>\n",
       "    <tr>\n",
       "      <th>1</th>\n",
       "      <td>16593</td>\n",
       "      <td>1</td>\n",
       "      <td>agenda0</td>\n",
       "      <td>2 AGENDA CHANGES</td>\n",
       "      <td>123.0</td>\n",
       "      <td>NaN</td>\n",
       "      <td>123.0</td>\n",
       "      <td>AGENDA CHANGE</td>\n",
       "      <td>[{'text': 'The first is a communication from t...</td>\n",
       "      <td>[SPEAKER_27]</td>\n",
       "    </tr>\n",
       "  </tbody>\n",
       "</table>\n",
       "</div>"
      ],
      "text/plain": [
       "   clip_id  index class_name                                  text   time  \\\n",
       "0    16593      0    agenda0  1 ROLL CALL AND PLEDGE OF ALLEGIANCE  122.0   \n",
       "1    16593      1    agenda0                      2 AGENDA CHANGES  123.0   \n",
       "\n",
       "   proposal_number  end_time         header  \\\n",
       "0              NaN     123.0      ROLL CALL   \n",
       "1              NaN     123.0  AGENDA CHANGE   \n",
       "\n",
       "                                    transcribed_text      speakers  \n",
       "0  [{'text': 'The first is a communication from t...  [SPEAKER_27]  \n",
       "1  [{'text': 'The first is a communication from t...  [SPEAKER_27]  "
      ]
     },
     "execution_count": 74,
     "metadata": {},
     "output_type": "execute_result"
    }
   ],
   "source": [
    "## full meeting information\n",
    "\n",
    "full_meeting_data_with_headers =  pd.read_json('../data/full-meeting-data-with-headers.jsonl', lines=True)\n",
    "full_meeting_data_with_headers.head(2)"
   ]
  },
  {
   "cell_type": "code",
   "execution_count": null,
   "id": "33f5a411-68cb-400d-80ae-bed56281dfd8",
   "metadata": {},
   "outputs": [],
   "source": []
  },
  {
   "cell_type": "code",
   "execution_count": null,
   "id": "b270df3b-b4bc-4519-8552-f0069b65cdca",
   "metadata": {},
   "outputs": [],
   "source": []
  }
 ],
 "metadata": {
  "kernelspec": {
   "display_name": "Python 3 (ipykernel)",
   "language": "python",
   "name": "python3"
  },
  "language_info": {
   "codemirror_mode": {
    "name": "ipython",
    "version": 3
   },
   "file_extension": ".py",
   "mimetype": "text/x-python",
   "name": "python",
   "nbconvert_exporter": "python",
   "pygments_lexer": "ipython3",
   "version": "3.12.2"
  }
 },
 "nbformat": 4,
 "nbformat_minor": 5
}
