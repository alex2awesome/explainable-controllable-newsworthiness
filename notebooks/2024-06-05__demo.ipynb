{
 "cells": [
  {
   "cell_type": "code",
   "execution_count": null,
   "id": "78ed8bbe-25cd-445d-9c7c-f89fd7e2e130",
   "metadata": {},
   "outputs": [],
   "source": [
    "! mkdir ../data\n",
    "! wget https://storage.googleapis.com/usc-data/newsworthiness-project/final-matching-articles-and-meetings.csv\n",
    "! wget https://storage.googleapis.com/usc-data/newsworthiness-project/full-meeting-data-with-headers.jsonl.zip\n",
    "! wget https://storage.googleapis.com/usc-data/newsworthiness-project/full_newsworthiness_training_data.jsonl\n",
    "! wget https://storage.googleapis.com/usc-data/newsworthiness-project/sfchron-fetched-articles.jsonl.zip"
   ]
  },
  {
   "cell_type": "code",
   "execution_count": 1,
   "id": "e03c7c1b-4583-48de-9d1d-1e5bb3d1336e",
   "metadata": {},
   "outputs": [],
   "source": [
    "# unzip these files and put them in the ../data directory\n",
    "# ... "
   ]
  },
  {
   "cell_type": "markdown",
   "id": "b81807d7-e951-4dd5-8f86-ea7b7458ee43",
   "metadata": {},
   "source": [
    "# Reading in City Council Minutes"
   ]
  },
  {
   "cell_type": "markdown",
   "id": "295cb9af-0b71-4cc0-9a7d-7175ea24f4a2",
   "metadata": {},
   "source": [
    "First, we read in the transcribed city city council meeting minutes. These were all obtained by downloading videos from these pages: https://sanfrancisco.granicus.com/player/clip/43243?view_id=10&meta_id=992444&redirect=true&h=b9650faa96d53d07034d556d92f18771"
   ]
  },
  {
   "cell_type": "code",
   "execution_count": 2,
   "id": "358e1773-a932-460e-83f0-4c954448aae3",
   "metadata": {},
   "outputs": [],
   "source": [
    "import os \n",
    "import glob\n",
    "import pandas as pd \n",
    "city_council_data_df = pd.read_json('../data/full_newsworthiness_training_data.jsonl',  lines=True)"
   ]
  },
  {
   "cell_type": "markdown",
   "id": "9d1660f0-f5df-498f-9560-0ea42a1a0fb9",
   "metadata": {},
   "source": [
    "These city council minutes have a `label` column that is `True` or `False`. This label column indicates whether or not the city council policy has been written about in news articles."
   ]
  },
  {
   "cell_type": "code",
   "execution_count": 3,
   "id": "90f8a348-b0fc-4a64-8468-879ab433ed3c",
   "metadata": {},
   "outputs": [
    {
     "data": {
      "text/html": [
       "<div>\n",
       "<style scoped>\n",
       "    .dataframe tbody tr th:only-of-type {\n",
       "        vertical-align: middle;\n",
       "    }\n",
       "\n",
       "    .dataframe tbody tr th {\n",
       "        vertical-align: top;\n",
       "    }\n",
       "\n",
       "    .dataframe thead th {\n",
       "        text-align: right;\n",
       "    }\n",
       "</style>\n",
       "<table border=\"1\" class=\"dataframe\">\n",
       "  <thead>\n",
       "    <tr style=\"text-align: right;\">\n",
       "      <th></th>\n",
       "      <th>clip_id</th>\n",
       "      <th>index</th>\n",
       "      <th>class_name</th>\n",
       "      <th>text</th>\n",
       "      <th>time</th>\n",
       "      <th>proposal_number</th>\n",
       "      <th>end_time</th>\n",
       "      <th>header</th>\n",
       "      <th>transcribed_text</th>\n",
       "      <th>label</th>\n",
       "      <th>date</th>\n",
       "    </tr>\n",
       "  </thead>\n",
       "  <tbody>\n",
       "    <tr>\n",
       "      <th>0</th>\n",
       "      <td>16637</td>\n",
       "      <td>18</td>\n",
       "      <td>agenda0</td>\n",
       "      <td>130031 Pursuant to Charter Sections 2.103 and ...</td>\n",
       "      <td>633.004</td>\n",
       "      <td>130031</td>\n",
       "      <td>635.705</td>\n",
       "      <td>COMMUNICATION</td>\n",
       "      <td>[{'text': ' Colleagues, Madam Clerk, why don't...</td>\n",
       "      <td>False</td>\n",
       "      <td>2013-01-15</td>\n",
       "    </tr>\n",
       "    <tr>\n",
       "      <th>1</th>\n",
       "      <td>16637</td>\n",
       "      <td>24</td>\n",
       "      <td>agenda0</td>\n",
       "      <td>121007 Ordinance authorizing, pursuant to Char...</td>\n",
       "      <td>903.883</td>\n",
       "      <td>121007</td>\n",
       "      <td>918.880</td>\n",
       "      <td>CONSENT AGENDA</td>\n",
       "      <td>[{'text': 'Madam Clerk, could you please call ...</td>\n",
       "      <td>False</td>\n",
       "      <td>2013-01-15</td>\n",
       "    </tr>\n",
       "    <tr>\n",
       "      <th>2</th>\n",
       "      <td>16637</td>\n",
       "      <td>25</td>\n",
       "      <td>agenda0</td>\n",
       "      <td>121064 Ordinance amending the San Francisco Bu...</td>\n",
       "      <td>918.880</td>\n",
       "      <td>121064</td>\n",
       "      <td>942.348</td>\n",
       "      <td>CONSENT AGENDA</td>\n",
       "      <td>[{'text': ' Thank you.', 'speaker': 'SPEAKER_2...</td>\n",
       "      <td>False</td>\n",
       "      <td>2013-01-15</td>\n",
       "    </tr>\n",
       "    <tr>\n",
       "      <th>3</th>\n",
       "      <td>16637</td>\n",
       "      <td>26</td>\n",
       "      <td>agenda0</td>\n",
       "      <td>121139 Resolution approving and authorizing th...</td>\n",
       "      <td>942.348</td>\n",
       "      <td>121139</td>\n",
       "      <td>959.000</td>\n",
       "      <td>CONSENT AGENDA</td>\n",
       "      <td>[{'text': 'This has been kind of a longstandin...</td>\n",
       "      <td>False</td>\n",
       "      <td>2013-01-15</td>\n",
       "    </tr>\n",
       "    <tr>\n",
       "      <th>4</th>\n",
       "      <td>16637</td>\n",
       "      <td>41</td>\n",
       "      <td>agenda0</td>\n",
       "      <td>120997 Ordinance appropriating $843,000 of Sta...</td>\n",
       "      <td>959.000</td>\n",
       "      <td>120997</td>\n",
       "      <td>959.000</td>\n",
       "      <td>CONSENT AGENDA</td>\n",
       "      <td>[{'text': 'Last year alone, I'm sorry, since 2...</td>\n",
       "      <td>False</td>\n",
       "      <td>2013-01-15</td>\n",
       "    </tr>\n",
       "  </tbody>\n",
       "</table>\n",
       "</div>"
      ],
      "text/plain": [
       "   clip_id  index class_name  \\\n",
       "0    16637     18    agenda0   \n",
       "1    16637     24    agenda0   \n",
       "2    16637     25    agenda0   \n",
       "3    16637     26    agenda0   \n",
       "4    16637     41    agenda0   \n",
       "\n",
       "                                                text     time  \\\n",
       "0  130031 Pursuant to Charter Sections 2.103 and ...  633.004   \n",
       "1  121007 Ordinance authorizing, pursuant to Char...  903.883   \n",
       "2  121064 Ordinance amending the San Francisco Bu...  918.880   \n",
       "3  121139 Resolution approving and authorizing th...  942.348   \n",
       "4  120997 Ordinance appropriating $843,000 of Sta...  959.000   \n",
       "\n",
       "   proposal_number  end_time          header  \\\n",
       "0           130031   635.705   COMMUNICATION   \n",
       "1           121007   918.880  CONSENT AGENDA   \n",
       "2           121064   942.348  CONSENT AGENDA   \n",
       "3           121139   959.000  CONSENT AGENDA   \n",
       "4           120997   959.000  CONSENT AGENDA   \n",
       "\n",
       "                                    transcribed_text  label       date  \n",
       "0  [{'text': ' Colleagues, Madam Clerk, why don't...  False 2013-01-15  \n",
       "1  [{'text': 'Madam Clerk, could you please call ...  False 2013-01-15  \n",
       "2  [{'text': ' Thank you.', 'speaker': 'SPEAKER_2...  False 2013-01-15  \n",
       "3  [{'text': 'This has been kind of a longstandin...  False 2013-01-15  \n",
       "4  [{'text': 'Last year alone, I'm sorry, since 2...  False 2013-01-15  "
      ]
     },
     "execution_count": 3,
     "metadata": {},
     "output_type": "execute_result"
    }
   ],
   "source": [
    "city_council_data_df.head()"
   ]
  },
  {
   "cell_type": "markdown",
   "id": "3e4a44f4-d0db-40a0-9706-d6b18b8db37c",
   "metadata": {},
   "source": [
    "The transcribed text of the city council meeting looks like this, with time-stamps and a speaker ID (these are randomly assigned, but used to track the speaker across the entire course of the meeting.)"
   ]
  },
  {
   "cell_type": "code",
   "execution_count": 4,
   "id": "435c2ead-5f8c-406d-9c08-e323164cf266",
   "metadata": {},
   "outputs": [
    {
     "data": {
      "text/plain": [
       "[{'text': 'Madam Clerk, could you please call item 12?',\n",
       "  'speaker': 'SPEAKER_29',\n",
       "  'start': 902.02,\n",
       "  'end': 903.883},\n",
       " {'text': ' Item 12 is an ordinance appropriating $843,000 of state reserves and approximately $1.4 million from school districts set aside funds for the San Francisco Unified School District for fiscal year 2012 through 2013.',\n",
       "  'speaker': 'SPEAKER_28',\n",
       "  'start': 903.883,\n",
       "  'end': 915.267},\n",
       " {'text': 'Supervisor Kim.',\n",
       "  'speaker': 'SPEAKER_28',\n",
       "  'start': 915.267,\n",
       "  'end': 918.44},\n",
       " {'text': ' Thank you.',\n",
       "  'speaker': 'SPEAKER_24',\n",
       "  'start': 918.44,\n",
       "  'end': 918.88},\n",
       " {'text': 'I realize that we are now finally coming to near end on discussion around the supplemental appropriation, and I just want to take a moment to thank my co-sponsors, Supervisors Campos, Marr, and Avalos, and also to Supervisors Cohen and Chu for your support for this supplemental.',\n",
       "  'speaker': 'SPEAKER_24',\n",
       "  'start': 918.88,\n",
       "  'end': 937.206}]"
      ]
     },
     "execution_count": 4,
     "metadata": {},
     "output_type": "execute_result"
    }
   ],
   "source": [
    "city_council_data_df['transcribed_text'].iloc[1]"
   ]
  },
  {
   "cell_type": "markdown",
   "id": "0ccff15f-b927-4b5c-a7af-c133557b1124",
   "metadata": {},
   "source": [
    "# Meetings and Articles"
   ]
  },
  {
   "cell_type": "markdown",
   "id": "2ff2015a-6832-4803-a4ef-cf79f1d48baf",
   "metadata": {},
   "source": [
    "Now, let's go deeper into the data we did in the last project, which shows the news articles along with the city council proposal text:"
   ]
  },
  {
   "cell_type": "code",
   "execution_count": 5,
   "id": "aa82dea1-0738-468c-8b94-718a17a82d33",
   "metadata": {
    "scrolled": true
   },
   "outputs": [],
   "source": [
    "final_matching_df = pd.read_csv('../data/final-matching-articles-and-meetings.csv', index_col=0)"
   ]
  },
  {
   "cell_type": "code",
   "execution_count": 6,
   "id": "bbb301cf-9623-4758-8916-8d6295850353",
   "metadata": {},
   "outputs": [
    {
     "name": "stdout",
     "output_type": "stream",
     "text": [
      "On Tuesday, the San Francisco Board of Supervisors will for the second time this summer consider amendments to the Airbnb law regulating short-term rentals to fix the mess former Supervisor David Chiu's industry-sponsored bill created last year. The Board of Supervisors has an opportunity to find a compromise to show that a city can fully embrace home sharing and also restrict landlords from operating illegal hotels. Six months of reports and analyses from government agencies, the media, Airbnb and an academic study provide the data that the Board of Supervisors needs to support an ordinance that facilitates legal short-term renting while giving government agencies tools for proactively regulating away the bad actors. The Board of Supervisors needs to find a reasonable compromise on home sharing so that we can get back to confronting San Francisco's larger housing challenge.\n",
      "\n",
      "On Tuesday, the San Francisco Board of Supervisors will for the second time this summer consider amendments to the Airbnb law regulating short-term rentals to fix the mess former Supervisor David Chiu's industry-sponsored bill created last year. Unfortunately, the competing amendments and upcoming ballot measure present the public with options that are either unnecessarily restrictive or, like the original law, rely too heavily on complaint-based enforcement. This would mean either the avoidable loss of increased tax dollars and income for residents or accepting the conversion of some rental housing to illegal hotels.\n"
     ]
    }
   ],
   "source": [
    "# this is a snipped of the news article that covered the city council minute\n",
    "\n",
    "print(final_matching_df['summary_text'].iloc[0])"
   ]
  },
  {
   "cell_type": "code",
   "execution_count": 7,
   "id": "7a18f35c-d5bf-4d90-be6d-12e4465284b2",
   "metadata": {},
   "outputs": [
    {
     "data": {
      "text/plain": [
       "\"Administrative Code - Short-Term Residential Rentals. Ordinance amending the Administrative Code to revise the Residential Unit Conversion Ordinance to: revise the definition of interested parties who may enforce the provisions of Chapter 41A, through a private right of action to include permanent residents residing within 100 feet of the residential unit; create an additional private right of action under certain circumstances; change the administrative hearing process from mandatory to at the request of any party found in violation of this Chapter; create an Office of Short-Term Residential Rental Administration and Enforcement staffed by the Planning Department, Department of Building Inspection, and Tax Collector's Office; and affirming the Planning Department's determination under the California Environmental Quality Act.\""
      ]
     },
     "execution_count": 7,
     "metadata": {},
     "output_type": "execute_result"
    }
   ],
   "source": [
    "# this is the proposal text\n",
    "\n",
    "final_matching_df['meeting text'].iloc[0]"
   ]
  },
  {
   "cell_type": "code",
   "execution_count": 8,
   "id": "506de22b-48a1-4f78-b620-4c79cbb03fc9",
   "metadata": {},
   "outputs": [
    {
     "data": {
      "text/plain": [
       "label\n",
       "False    15799\n",
       "True      1301\n",
       "Name: count, dtype: int64"
      ]
     },
     "execution_count": 8,
     "metadata": {},
     "output_type": "execute_result"
    }
   ],
   "source": [
    "# these are how many city council minutes were covered\n",
    "\n",
    "city_council_data_df['label'].value_counts()"
   ]
  },
  {
   "cell_type": "markdown",
   "id": "744f3a97-3e6c-45ed-a47c-21ac213bc0c1",
   "metadata": {},
   "source": [
    "# Additional information (if needed)"
   ]
  },
  {
   "cell_type": "markdown",
   "id": "1d9474da-ec55-4776-b16f-d04424168087",
   "metadata": {},
   "source": [
    "Here is some more information about both the meeting and the news articles if you need them."
   ]
  },
  {
   "cell_type": "code",
   "execution_count": 41,
   "id": "dcded316-b73e-4ae1-82cf-50f368593416",
   "metadata": {},
   "outputs": [],
   "source": [
    "# full article information/ text\n",
    "# the original final_matching_df doesn't have the full article text, \n",
    "# so you might want to look at the actual text\n",
    "\n",
    "json_file = '../data/sfchron-fetched-articles.jsonl'\n",
    "articles = []\n",
    "import json\n",
    "for line in open(json_file):\n",
    "    articles.append(json.loads(line))\n",
    "\n",
    "sf_articles_df = pd.DataFrame(articles)\n",
    "final_matching_df['key'] = (final_matching_df['article_url']\n",
    "     .str.split(')')\n",
    "     .str.get(-1)\n",
    "     .str.replace('https://', 'http://')\n",
    "     .str.replace('www.', '')\n",
    "     .str.replace('http://sfchronicle.com', '')\n",
    ")"
   ]
  },
  {
   "cell_type": "code",
   "execution_count": 80,
   "id": "f0c60d2c-9404-419f-8f6a-586faecf0efe",
   "metadata": {},
   "outputs": [
    {
     "data": {
      "text/html": [
       "<div>\n",
       "<style scoped>\n",
       "    .dataframe tbody tr th:only-of-type {\n",
       "        vertical-align: middle;\n",
       "    }\n",
       "\n",
       "    .dataframe tbody tr th {\n",
       "        vertical-align: top;\n",
       "    }\n",
       "\n",
       "    .dataframe thead th {\n",
       "        text-align: right;\n",
       "    }\n",
       "</style>\n",
       "<table border=\"1\" class=\"dataframe\">\n",
       "  <thead>\n",
       "    <tr style=\"text-align: right;\">\n",
       "      <th></th>\n",
       "      <th>key</th>\n",
       "      <th>article_text</th>\n",
       "      <th>city</th>\n",
       "      <th>committee</th>\n",
       "      <th>meeting date</th>\n",
       "      <th>File #</th>\n",
       "      <th>meeting text</th>\n",
       "      <th>summary_text</th>\n",
       "      <th>article_url</th>\n",
       "      <th>article_publish_date</th>\n",
       "    </tr>\n",
       "  </thead>\n",
       "  <tbody>\n",
       "    <tr>\n",
       "      <th>0</th>\n",
       "      <td>/opinion/openforum/article/how-to-fix-san-fran...</td>\n",
       "      <td>NaN</td>\n",
       "      <td>San Francisco</td>\n",
       "      <td>Board of Supervisors</td>\n",
       "      <td>2015-07-21</td>\n",
       "      <td>150363</td>\n",
       "      <td>Administrative Code - Short-Term Residential R...</td>\n",
       "      <td>On Tuesday, the San Francisco Board of Supervi...</td>\n",
       "      <td>com,sfchronicle)/opinion/openforum/article/com...</td>\n",
       "      <td>2015-07-12 21:00:00+00:00</td>\n",
       "    </tr>\n",
       "    <tr>\n",
       "      <th>1</th>\n",
       "      <td>/bayarea/article/Keeping-S-F-light-rail-on-tra...</td>\n",
       "      <td>Photo: Siemens\\n\\nThe Municipal Transportation...</td>\n",
       "      <td>San Francisco</td>\n",
       "      <td>Board of Supervisors</td>\n",
       "      <td>2014-11-18</td>\n",
       "      <td>141197</td>\n",
       "      <td>Hearing - Update on the Municipal Transportati...</td>\n",
       "      <td>If the Board of Supervisors approves the contr...</td>\n",
       "      <td>http://sfchronicle.com/bayarea/article/Keeping...</td>\n",
       "      <td>2014-11-25 02:45:00+00:00</td>\n",
       "    </tr>\n",
       "    <tr>\n",
       "      <th>2</th>\n",
       "      <td>/bayarea/heatherknight/article/san-francisco-l...</td>\n",
       "      <td>NaN</td>\n",
       "      <td>San Francisco</td>\n",
       "      <td>Board of Supervisors</td>\n",
       "      <td>2020-09-01</td>\n",
       "      <td>200884</td>\n",
       "      <td>Affirming the Statutory Exemption From Environ...</td>\n",
       "      <td>This would be a good time for the Board of Sup...</td>\n",
       "      <td>com,sfchronicle)/bayarea/heatherknight/article...</td>\n",
       "      <td>2020-09-12 11:00:00+00:00</td>\n",
       "    </tr>\n",
       "    <tr>\n",
       "      <th>3</th>\n",
       "      <td>/bayarea/article/mayor-ups-proposed-housing-bo...</td>\n",
       "      <td>NaN</td>\n",
       "      <td>San Francisco</td>\n",
       "      <td>Board of Supervisors</td>\n",
       "      <td>2015-05-19</td>\n",
       "      <td>150503</td>\n",
       "      <td>Committee of the Whole - Urgency Ordinance - Z...</td>\n",
       "      <td>That's welcome news to Mission residents, some...</td>\n",
       "      <td>com,sfchronicle)/bayarea/article/com,sfchronic...</td>\n",
       "      <td>2015-06-09 01:31:04+00:00</td>\n",
       "    </tr>\n",
       "    <tr>\n",
       "      <th>4</th>\n",
       "      <td>/sf/article/breed-s-tenderloin-emergency-s-f-r...</td>\n",
       "      <td>NaN</td>\n",
       "      <td>San Francisco</td>\n",
       "      <td>Board of Supervisors</td>\n",
       "      <td>2022-02-15</td>\n",
       "      <td>220155</td>\n",
       "      <td>Concurring in Actions to Meet Local Emergency ...</td>\n",
       "      <td>The city put out a news release touting progre...</td>\n",
       "      <td>com,sfchronicle)/sf/article/com,sfchronicle)/s...</td>\n",
       "      <td>2022-02-08 17:35:27+00:00</td>\n",
       "    </tr>\n",
       "  </tbody>\n",
       "</table>\n",
       "</div>"
      ],
      "text/plain": [
       "                                                 key  \\\n",
       "0  /opinion/openforum/article/how-to-fix-san-fran...   \n",
       "1  /bayarea/article/Keeping-S-F-light-rail-on-tra...   \n",
       "2  /bayarea/heatherknight/article/san-francisco-l...   \n",
       "3  /bayarea/article/mayor-ups-proposed-housing-bo...   \n",
       "4  /sf/article/breed-s-tenderloin-emergency-s-f-r...   \n",
       "\n",
       "                                        article_text           city  \\\n",
       "0                                                NaN  San Francisco   \n",
       "1  Photo: Siemens\\n\\nThe Municipal Transportation...  San Francisco   \n",
       "2                                                NaN  San Francisco   \n",
       "3                                                NaN  San Francisco   \n",
       "4                                                NaN  San Francisco   \n",
       "\n",
       "              committee meeting date  File #  \\\n",
       "0  Board of Supervisors   2015-07-21  150363   \n",
       "1  Board of Supervisors   2014-11-18  141197   \n",
       "2  Board of Supervisors   2020-09-01  200884   \n",
       "3  Board of Supervisors   2015-05-19  150503   \n",
       "4  Board of Supervisors   2022-02-15  220155   \n",
       "\n",
       "                                        meeting text  \\\n",
       "0  Administrative Code - Short-Term Residential R...   \n",
       "1  Hearing - Update on the Municipal Transportati...   \n",
       "2  Affirming the Statutory Exemption From Environ...   \n",
       "3  Committee of the Whole - Urgency Ordinance - Z...   \n",
       "4  Concurring in Actions to Meet Local Emergency ...   \n",
       "\n",
       "                                        summary_text  \\\n",
       "0  On Tuesday, the San Francisco Board of Supervi...   \n",
       "1  If the Board of Supervisors approves the contr...   \n",
       "2  This would be a good time for the Board of Sup...   \n",
       "3  That's welcome news to Mission residents, some...   \n",
       "4  The city put out a news release touting progre...   \n",
       "\n",
       "                                         article_url  \\\n",
       "0  com,sfchronicle)/opinion/openforum/article/com...   \n",
       "1  http://sfchronicle.com/bayarea/article/Keeping...   \n",
       "2  com,sfchronicle)/bayarea/heatherknight/article...   \n",
       "3  com,sfchronicle)/bayarea/article/com,sfchronic...   \n",
       "4  com,sfchronicle)/sf/article/com,sfchronicle)/s...   \n",
       "\n",
       "        article_publish_date  \n",
       "0  2015-07-12 21:00:00+00:00  \n",
       "1  2014-11-25 02:45:00+00:00  \n",
       "2  2020-09-12 11:00:00+00:00  \n",
       "3  2015-06-09 01:31:04+00:00  \n",
       "4  2022-02-08 17:35:27+00:00  "
      ]
     },
     "execution_count": 80,
     "metadata": {},
     "output_type": "execute_result"
    }
   ],
   "source": [
    "matching_df_with_full_text = (\n",
    "    sf_articles_df\n",
    "         .assign(key=lambda df: df['article_url'].str.split('sfchronicle.com').str.get(-1))\n",
    "         [['key', 'article_text']]\n",
    "         .merge(final_matching_df, on='key', how='right')\n",
    ")\n",
    "\n",
    "matching_df_with_full_text.head()"
   ]
  },
  {
   "cell_type": "code",
   "execution_count": 74,
   "id": "c2584111-add2-45e2-84e0-6028ca2750e6",
   "metadata": {},
   "outputs": [
    {
     "data": {
      "text/html": [
       "<div>\n",
       "<style scoped>\n",
       "    .dataframe tbody tr th:only-of-type {\n",
       "        vertical-align: middle;\n",
       "    }\n",
       "\n",
       "    .dataframe tbody tr th {\n",
       "        vertical-align: top;\n",
       "    }\n",
       "\n",
       "    .dataframe thead th {\n",
       "        text-align: right;\n",
       "    }\n",
       "</style>\n",
       "<table border=\"1\" class=\"dataframe\">\n",
       "  <thead>\n",
       "    <tr style=\"text-align: right;\">\n",
       "      <th></th>\n",
       "      <th>clip_id</th>\n",
       "      <th>index</th>\n",
       "      <th>class_name</th>\n",
       "      <th>text</th>\n",
       "      <th>time</th>\n",
       "      <th>proposal_number</th>\n",
       "      <th>end_time</th>\n",
       "      <th>header</th>\n",
       "      <th>transcribed_text</th>\n",
       "      <th>speakers</th>\n",
       "    </tr>\n",
       "  </thead>\n",
       "  <tbody>\n",
       "    <tr>\n",
       "      <th>0</th>\n",
       "      <td>16593</td>\n",
       "      <td>0</td>\n",
       "      <td>agenda0</td>\n",
       "      <td>1 ROLL CALL AND PLEDGE OF ALLEGIANCE</td>\n",
       "      <td>122.0</td>\n",
       "      <td>NaN</td>\n",
       "      <td>123.0</td>\n",
       "      <td>ROLL CALL</td>\n",
       "      <td>[{'text': 'The first is a communication from t...</td>\n",
       "      <td>[SPEAKER_27]</td>\n",
       "    </tr>\n",
       "    <tr>\n",
       "      <th>1</th>\n",
       "      <td>16593</td>\n",
       "      <td>1</td>\n",
       "      <td>agenda0</td>\n",
       "      <td>2 AGENDA CHANGES</td>\n",
       "      <td>123.0</td>\n",
       "      <td>NaN</td>\n",
       "      <td>123.0</td>\n",
       "      <td>AGENDA CHANGE</td>\n",
       "      <td>[{'text': 'The first is a communication from t...</td>\n",
       "      <td>[SPEAKER_27]</td>\n",
       "    </tr>\n",
       "  </tbody>\n",
       "</table>\n",
       "</div>"
      ],
      "text/plain": [
       "   clip_id  index class_name                                  text   time  \\\n",
       "0    16593      0    agenda0  1 ROLL CALL AND PLEDGE OF ALLEGIANCE  122.0   \n",
       "1    16593      1    agenda0                      2 AGENDA CHANGES  123.0   \n",
       "\n",
       "   proposal_number  end_time         header  \\\n",
       "0              NaN     123.0      ROLL CALL   \n",
       "1              NaN     123.0  AGENDA CHANGE   \n",
       "\n",
       "                                    transcribed_text      speakers  \n",
       "0  [{'text': 'The first is a communication from t...  [SPEAKER_27]  \n",
       "1  [{'text': 'The first is a communication from t...  [SPEAKER_27]  "
      ]
     },
     "execution_count": 74,
     "metadata": {},
     "output_type": "execute_result"
    }
   ],
   "source": [
    "## full meeting information\n",
    "\n",
    "full_meeting_data_with_headers =  pd.read_json('../data/full-meeting-data-with-headers.jsonl', lines=True)\n",
    "full_meeting_data_with_headers.head(2)"
   ]
  },
  {
   "cell_type": "code",
   "execution_count": null,
   "id": "33f5a411-68cb-400d-80ae-bed56281dfd8",
   "metadata": {},
   "outputs": [],
   "source": []
  },
  {
   "cell_type": "markdown",
   "id": "76744b6f-de58-406e-b372-bba9a286d54d",
   "metadata": {},
   "source": [
    "# Demo for Merged DF"
   ]
  },
  {
   "cell_type": "code",
   "execution_count": null,
   "id": "9fbf0ee1-0fe3-4b1f-83bd-a7f40df89682",
   "metadata": {},
   "outputs": [],
   "source": []
  },
  {
   "cell_type": "code",
   "execution_count": 81,
   "id": "b337d329-f506-4bc0-95bb-751d7347f9d1",
   "metadata": {
    "scrolled": true
   },
   "outputs": [],
   "source": [
    "renamed_article_matched_df = matching_df_with_full_text.rename(columns={\n",
    "    'meeting text': 'policy text',\n",
    "    'summary_text': 'article summary text',\n",
    "    'article_text': 'article full text'\n",
    "})"
   ]
  },
  {
   "cell_type": "code",
   "execution_count": 82,
   "id": "54785fac-42c7-4e55-9c79-52a717d45241",
   "metadata": {},
   "outputs": [],
   "source": [
    "renamed_city_council_data_df = city_council_data_df.rename(columns={\n",
    "    'text': 'policy text',\n",
    "    'transcribed_text': 'meeting transcribed text'\n",
    "})"
   ]
  },
  {
   "cell_type": "code",
   "execution_count": 90,
   "id": "563b886f-16a4-40a8-9509-05ea419f0b02",
   "metadata": {},
   "outputs": [],
   "source": [
    "full_merged_df = (\n",
    "    renamed_article_matched_df[['File #', 'article full text', 'article summary text']]\n",
    "         .merge(\n",
    "             right=renamed_city_council_data_df[['proposal_number', 'policy text', 'meeting transcribed text', 'label']], \n",
    "             left_on='File #',\n",
    "             right_on='proposal_number', \n",
    "             how='right'\n",
    "         )\n",
    ").drop(columns='File #')"
   ]
  },
  {
   "cell_type": "code",
   "execution_count": 92,
   "id": "d045c0e2-1d3f-4703-9e86-1ddc39bdef5a",
   "metadata": {},
   "outputs": [
    {
     "data": {
      "text/html": [
       "<div>\n",
       "<style scoped>\n",
       "    .dataframe tbody tr th:only-of-type {\n",
       "        vertical-align: middle;\n",
       "    }\n",
       "\n",
       "    .dataframe tbody tr th {\n",
       "        vertical-align: top;\n",
       "    }\n",
       "\n",
       "    .dataframe thead th {\n",
       "        text-align: right;\n",
       "    }\n",
       "</style>\n",
       "<table border=\"1\" class=\"dataframe\">\n",
       "  <thead>\n",
       "    <tr style=\"text-align: right;\">\n",
       "      <th></th>\n",
       "      <th>article full text</th>\n",
       "      <th>article summary text</th>\n",
       "      <th>proposal_number</th>\n",
       "      <th>policy text</th>\n",
       "      <th>meeting transcribed text</th>\n",
       "      <th>label</th>\n",
       "    </tr>\n",
       "  </thead>\n",
       "  <tbody>\n",
       "    <tr>\n",
       "      <th>12762</th>\n",
       "      <td>NaN</td>\n",
       "      <td>NaN</td>\n",
       "      <td>191286</td>\n",
       "      <td>191286 Public Trust Exchange Agreement - Calif...</td>\n",
       "      <td>[{'text': 'Madam Clerk, next item.', 'speaker'...</td>\n",
       "      <td>False</td>\n",
       "    </tr>\n",
       "    <tr>\n",
       "      <th>14686</th>\n",
       "      <td>NaN</td>\n",
       "      <td>NaN</td>\n",
       "      <td>201395</td>\n",
       "      <td>201395 Official Naming of Unnamed Streets - Se...</td>\n",
       "      <td>[{'text': 'Madam Clerk, please call item numbe...</td>\n",
       "      <td>False</td>\n",
       "    </tr>\n",
       "    <tr>\n",
       "      <th>9751</th>\n",
       "      <td>London Breed wins SF mayor’s race as Mark Leno...</td>\n",
       "      <td>Photo: Jessica Christian / The Chronicle Image...</td>\n",
       "      <td>180719</td>\n",
       "      <td>180719 Declaration of Election Results - June ...</td>\n",
       "      <td>[{'text': 'Tang, aye.', 'speaker': 'SPEAKER_49...</td>\n",
       "      <td>True</td>\n",
       "    </tr>\n",
       "    <tr>\n",
       "      <th>7060</th>\n",
       "      <td>NaN</td>\n",
       "      <td>NaN</td>\n",
       "      <td>170100</td>\n",
       "      <td>170100 Real Property Lease - SPOK, Inc. - Zuck...</td>\n",
       "      <td>[{'text': ' For both leases at Zuckerberg, San...</td>\n",
       "      <td>False</td>\n",
       "    </tr>\n",
       "    <tr>\n",
       "      <th>7876</th>\n",
       "      <td>NaN</td>\n",
       "      <td>NaN</td>\n",
       "      <td>170442</td>\n",
       "      <td>170442 Public Works, Administrative Codes - Re...</td>\n",
       "      <td>[{'text': 'Madam Clerk, can we return to item ...</td>\n",
       "      <td>False</td>\n",
       "    </tr>\n",
       "  </tbody>\n",
       "</table>\n",
       "</div>"
      ],
      "text/plain": [
       "                                       article full text  \\\n",
       "12762                                                NaN   \n",
       "14686                                                NaN   \n",
       "9751   London Breed wins SF mayor’s race as Mark Leno...   \n",
       "7060                                                 NaN   \n",
       "7876                                                 NaN   \n",
       "\n",
       "                                    article summary text  proposal_number  \\\n",
       "12762                                                NaN           191286   \n",
       "14686                                                NaN           201395   \n",
       "9751   Photo: Jessica Christian / The Chronicle Image...           180719   \n",
       "7060                                                 NaN           170100   \n",
       "7876                                                 NaN           170442   \n",
       "\n",
       "                                             policy text  \\\n",
       "12762  191286 Public Trust Exchange Agreement - Calif...   \n",
       "14686  201395 Official Naming of Unnamed Streets - Se...   \n",
       "9751   180719 Declaration of Election Results - June ...   \n",
       "7060   170100 Real Property Lease - SPOK, Inc. - Zuck...   \n",
       "7876   170442 Public Works, Administrative Codes - Re...   \n",
       "\n",
       "                                meeting transcribed text  label  \n",
       "12762  [{'text': 'Madam Clerk, next item.', 'speaker'...  False  \n",
       "14686  [{'text': 'Madam Clerk, please call item numbe...  False  \n",
       "9751   [{'text': 'Tang, aye.', 'speaker': 'SPEAKER_49...   True  \n",
       "7060   [{'text': ' For both leases at Zuckerberg, San...  False  \n",
       "7876   [{'text': 'Madam Clerk, can we return to item ...  False  "
      ]
     },
     "execution_count": 92,
     "metadata": {},
     "output_type": "execute_result"
    }
   ],
   "source": [
    "full_merged_df.sample(5)"
   ]
  },
  {
   "cell_type": "code",
   "execution_count": null,
   "id": "44ab8077-02a3-45be-9f59-115debc68e3c",
   "metadata": {},
   "outputs": [],
   "source": [
    "# here's how you might combine the `policy text` and the `meeting transcribed text` columns:"
   ]
  },
  {
   "cell_type": "code",
   "execution_count": 105,
   "id": "19e90640-fde8-416c-ab7e-6ee9d3f27e7d",
   "metadata": {},
   "outputs": [],
   "source": [
    "full_merged_df_w_full_policy_text = (\n",
    "    full_merged_df\n",
    "     .assign(meeting_transcribed_text_col = lambda df:\n",
    "             df.apply(lambda x: list(map(lambda y: y['text'], x['meeting transcribed text'])), axis=1)\n",
    "            )\n",
    "     .assign(full_policy_text=lambda df: 'policy text:\\n\\n' + df['policy text'] + '\\n\\n' + 'meeting text:\\n\\n' + df['meeting_transcribed_text_col'].str.join('\\n'))\n",
    "     .drop(columns=['meeting transcribed text', 'meeting_transcribed_text_col'])\n",
    ")"
   ]
  },
  {
   "cell_type": "code",
   "execution_count": 106,
   "id": "71af3950-6251-43ac-b282-225cfd72b6ed",
   "metadata": {},
   "outputs": [
    {
     "name": "stdout",
     "output_type": "stream",
     "text": [
      "policy text:\n",
      "\n",
      "121007 Ordinance authorizing, pursuant to Charter Section 9.118(a), a System Impact Mitigation Agreement with North Star Solar, LLC, requiring North Star Solar, LLC, to pay the Public Utilities Commission the costs necessary to mitigate the impacts to the City’s electric system caused by the interconnection of North Star Solar, LLC’s solar project to the electric grid; authorizing similar mitigation agreements with other projects in the future; appropriating funds from these agreements to pay the costs of mitigation work; and placing various mitigation funds on reserve with the Board of Supervisors.\n",
      "\n",
      "meeting text:\n",
      "\n",
      "Madam Clerk, could you please call item 12?\n",
      " Item 12 is an ordinance appropriating $843,000 of state reserves and approximately $1.4 million from school districts set aside funds for the San Francisco Unified School District for fiscal year 2012 through 2013.\n",
      "Supervisor Kim.\n",
      " Thank you.\n",
      "I realize that we are now finally coming to near end on discussion around the supplemental appropriation, and I just want to take a moment to thank my co-sponsors, Supervisors Campos, Marr, and Avalos, and also to Supervisors Cohen and Chu for your support for this supplemental.\n"
     ]
    }
   ],
   "source": [
    "print(full_merged_df_w_full_policy_text['full_policy_text'].iloc[1])"
   ]
  },
  {
   "cell_type": "code",
   "execution_count": null,
   "id": "55edb619-2229-4058-bddc-84d3a3c8bd6f",
   "metadata": {},
   "outputs": [],
   "source": []
  },
  {
   "cell_type": "code",
   "execution_count": null,
   "id": "a643510c-7ed2-4627-988b-1101b5274e6c",
   "metadata": {},
   "outputs": [],
   "source": []
  },
  {
   "cell_type": "code",
   "execution_count": null,
   "id": "5e282ad6-1d98-48e7-a741-103bda22538c",
   "metadata": {},
   "outputs": [],
   "source": []
  },
  {
   "cell_type": "code",
   "execution_count": null,
   "id": "9d5f93f5-c35c-4698-8b1a-66a033699c45",
   "metadata": {},
   "outputs": [],
   "source": []
  }
 ],
 "metadata": {
  "kernelspec": {
   "display_name": "Python 3 (ipykernel)",
   "language": "python",
   "name": "python3"
  },
  "language_info": {
   "codemirror_mode": {
    "name": "ipython",
    "version": 3
   },
   "file_extension": ".py",
   "mimetype": "text/x-python",
   "name": "python",
   "nbconvert_exporter": "python",
   "pygments_lexer": "ipython3",
   "version": "3.12.2"
  }
 },
 "nbformat": 4,
 "nbformat_minor": 5
}
