{
 "cells": [
  {
   "cell_type": "code",
   "execution_count": 1,
   "id": "e7e0ee87-feee-4d85-951f-a01956352e7e",
   "metadata": {},
   "outputs": [],
   "source": [
    "import pandas as pd "
   ]
  },
  {
   "cell_type": "code",
   "execution_count": 12,
   "id": "5a7d3a9a-a913-4b85-929f-d71e4e4776ae",
   "metadata": {},
   "outputs": [],
   "source": [
    "from civic_scraper.platforms import CivicPlusSite\n",
    "url = 'http://ny-wyomingcounty.civicplus.com/AgendaCenter'\n",
    "# url = 'http://oh-circleville.civicplus.com/AgendaCenter'\n",
    "site = CivicPlusSite(url)"
   ]
  },
  {
   "cell_type": "code",
   "execution_count": null,
   "id": "dc14ca44-c15e-4d67-a648-fc4aa5e49745",
   "metadata": {},
   "outputs": [],
   "source": [
    "assets_metadata = site.scrape(start_date='2020-01-01', end_date='2022-01-01')"
   ]
  },
  {
   "cell_type": "markdown",
   "id": "e623cf07-c238-4efe-9a72-cebc0c4e7f73",
   "metadata": {},
   "source": [
    "# Scrape Legislation Only"
   ]
  },
  {
   "cell_type": "markdown",
   "id": "a89eab86-aaea-4b5e-963c-1910140d8932",
   "metadata": {},
   "source": [
    "## legistar without videos available\n",
    "\n",
    "'https://phila.legistar.com/Legislation.aspx'\n",
    "\n",
    "'https://columbus.legistar.com/Legislation.aspx'\n",
    "\n",
    "'https://phoenix.legistar.com/Legislation.aspx'\n",
    "\n",
    "## legistar with videos available\n",
    "\n",
    "'https://seattle.legistar.com/Legislation.aspx'\n",
    "\n",
    "'https://newark.legistar.com/Legislation.aspx'\n",
    "\n",
    "'https://durhamcounty.legistar.com/Legislation.aspx'\n",
    "\n",
    "'https://alexandria.legistar.com/Legislation.aspx'\n",
    "\n",
    "'https://fortworthgov.legistar.com/Legislation.aspx'\n",
    "\n",
    "## potentially new sources\n",
    "\n",
    "https://denver.legistar.com/Calendar.aspx\n",
    "\n",
    "https://jaxcityc.legistar.com/Calendar.aspx"
   ]
  },
  {
   "cell_type": "code",
   "execution_count": null,
   "id": "211e0c92-4368-450f-9e0e-4d83d3d5e387",
   "metadata": {},
   "outputs": [],
   "source": [
    "from civic_scraper.platforms import LegistarSite\n",
    "import pytz"
   ]
  },
  {
   "cell_type": "code",
   "execution_count": null,
   "id": "8243b036-9a1f-434e-b03f-d3c243c3e50f",
   "metadata": {},
   "outputs": [],
   "source": [
    "timezone = 'US/Pacific' \n",
    "site = LegistarSite('https://durhamcounty.legistar.com/Calendar.aspx', timezone=timezone)\n",
    "# site = LegistarSite('https://fortworthgov.legistar.com/Calendar.aspx',) \n",
    "# r = site.scrape(start_date='2021-02-01', end_date='2021-03-01')"
   ]
  },
  {
   "cell_type": "code",
   "execution_count": null,
   "id": "7e6aa016-4a08-4051-94ad-30bd1c29e25c",
   "metadata": {},
   "outputs": [],
   "source": [
    "from urllib.parse import parse_qs, urlparse\n",
    "from dateutil.parser import parse\n",
    "from legistar.bills import LegistarBillScraper"
   ]
  },
  {
   "cell_type": "code",
   "execution_count": 51,
   "id": "4e9d84b8-5db2-49c3-aad6-a695cb2a8f4d",
   "metadata": {},
   "outputs": [],
   "source": [
    "webscraper = LegistarBillScraper()"
   ]
  },
  {
   "cell_type": "code",
   "execution_count": 138,
   "id": "faf2746a-9d1b-48bd-ac98-a1bc3f86c6ee",
   "metadata": {},
   "outputs": [],
   "source": [
    "url = 'https://durhamcounty.legistar.com/Calendar.aspx'"
   ]
  },
  {
   "cell_type": "code",
   "execution_count": 65,
   "id": "59c27a78-8aa1-4ef5-a974-df7a7fc8f13a",
   "metadata": {},
   "outputs": [],
   "source": [
    "webscraper.BASE_URL = urlparse(url).netloc\n",
    "webscraper.LEGISLATION_URL = url\n",
    "webscraper.TIMEZONE = timezone\n",
    "webscraper.date_format = \"%m/%d/%Y %I:%M %p\""
   ]
  },
  {
   "cell_type": "code",
   "execution_count": 66,
   "id": "3de72716-0090-45f9-b5d2-a1e9b4516496",
   "metadata": {},
   "outputs": [
    {
     "data": {
      "text/plain": [
       "datetime.datetime(2021, 1, 1, 0, 0)"
      ]
     },
     "execution_count": 66,
     "metadata": {},
     "output_type": "execute_result"
    }
   ],
   "source": [
    "parse('2021-01-01')"
   ]
  },
  {
   "cell_type": "code",
   "execution_count": 70,
   "id": "1040286f-831e-4a3b-9a70-135aed220cf3",
   "metadata": {},
   "outputs": [
    {
     "name": "stderr",
     "output_type": "stream",
     "text": [
      "/Users/spangher/miniconda3/lib/python3.12/site-packages/urllib3/connectionpool.py:1061: InsecureRequestWarning: Unverified HTTPS request is being made to host 'durhamcounty.legistar.com'. Adding certificate verification is strongly advised. See: https://urllib3.readthedocs.io/en/1.26.x/advanced-usage.html#ssl-warnings\n",
      "  warnings.warn(\n",
      "/Users/spangher/miniconda3/lib/python3.12/site-packages/urllib3/connectionpool.py:1061: InsecureRequestWarning: Unverified HTTPS request is being made to host 'durhamcounty.legistar.com'. Adding certificate verification is strongly advised. See: https://urllib3.readthedocs.io/en/1.26.x/advanced-usage.html#ssl-warnings\n",
      "  warnings.warn(\n"
     ]
    }
   ],
   "source": [
    "pages = webscraper.searchLegislation(\n",
    "    created_after=parse('2021-01-01'), created_before=parse('2021-06-01')\n",
    ")"
   ]
  },
  {
   "cell_type": "code",
   "execution_count": null,
   "id": "e3507186-c08c-4a2a-9472-f1d7c771cae5",
   "metadata": {},
   "outputs": [],
   "source": [
    "pages_list = list(pages)"
   ]
  },
  {
   "cell_type": "code",
   "execution_count": 85,
   "id": "18968b01-e3b0-40f9-a63b-fe4a87938189",
   "metadata": {},
   "outputs": [
    {
     "data": {
      "text/plain": [
       "lxml.html.HtmlElement"
      ]
     },
     "execution_count": 85,
     "metadata": {},
     "output_type": "execute_result"
    }
   ],
   "source": [
    "type(pages_list[3])"
   ]
  },
  {
   "cell_type": "code",
   "execution_count": 91,
   "id": "86a6614c-7008-41bd-aa73-f9e651de34b0",
   "metadata": {},
   "outputs": [],
   "source": [
    "from lxml import etree\n",
    "import pandas as pd "
   ]
  },
  {
   "cell_type": "code",
   "execution_count": 93,
   "id": "f1f285d0-f367-4467-8664-ed4f607aaeed",
   "metadata": {},
   "outputs": [
    {
     "name": "stderr",
     "output_type": "stream",
     "text": [
      "/var/folders/xh/qnyq7yzj0r328_7hnb7pgxth0000gp/T/ipykernel_18720/248126114.py:1: FutureWarning: Passing literal html to 'read_html' is deprecated and will be removed in a future version. To read from a literal string, wrap it in a 'StringIO' object.\n",
      "  t = pd.read_html(etree.tostring(pages_list[0], pretty_print=True).decode())\n"
     ]
    }
   ],
   "source": [
    "t = pd.read_html(etree.tostring(pages_list[0], pretty_print=True).decode())"
   ]
  },
  {
   "cell_type": "code",
   "execution_count": null,
   "id": "c13476d5-2fb0-46a2-8c4f-a70d3a4024e8",
   "metadata": {},
   "outputs": [],
   "source": [
    "# required to instantiate webscraper\n",
    "ac = AssetCollection()\n",
    "start_year = int(start_date[:4])\n",
    "events = [event[0] for event in webscraper.events(since=start_year)]\n",
    "for event in events:\n",
    "    meeting_meta = self._extract_meeting_meta(event, webscraper)\n",
    "    for asset_type in asset_list:\n",
    "        # Skip if a dictionary containing 'url' key is not present for the given asset type\n",
    "        try:\n",
    "            asset = self._create_asset(event, meeting_meta, asset_type)\n",
    "        except TypeError:\n",
    "            continue\n",
    "        # Apply date and other filters\n",
    "        if self._skippable(\n",
    "            asset, start_date, end_date, file_size=file_size, download=download\n",
    "        ):\n",
    "            continue\n",
    "        ac.append(asset)\n",
    "if download:\n",
    "    asset_dir = Path(self.cache.path, \"assets\")\n",
    "    asset_dir.mkdir(parents=True, exist_ok=True)\n",
    "    for asset in ac:\n",
    "        if asset.url:\n",
    "            dir_str = str(asset_dir)\n",
    "            asset.download(target_dir=dir_str, session=webscraper)\n",
    "return ac"
   ]
  },
  {
   "cell_type": "markdown",
   "id": "76223d98-af04-43c9-b43e-86143b81eeee",
   "metadata": {},
   "source": [
    "# Manually Scrape"
   ]
  },
  {
   "cell_type": "code",
   "execution_count": 1,
   "id": "a86dd89b-32fb-40bb-86d0-72d35cbeddd8",
   "metadata": {},
   "outputs": [],
   "source": [
    "import playwright\n",
    "from playwright.sync_api import sync_playwright\n",
    "from playwright.async_api import async_playwright\n",
    "from IPython.display import display, HTML\n",
    "import unidecode\n",
    "from bs4 import BeautifulSoup\n",
    "import re \n",
    "import time\n",
    "import html\n",
    "import unicodedata\n",
    "import pandas as pd \n",
    "\n",
    "def process_row(td, col_name, row_chunk=None):\n",
    "    col_name = col_name.replace(':', '')\n",
    "    text = td.get_text().strip()\n",
    "    text = unicodedata.normalize(\"NFKD\", text)\n",
    "    if row_chunk is None:\n",
    "        row_chunk = {}\n",
    "        \n",
    "    row_chunk[col_name] = text\n",
    "    a = td.find('a')\n",
    "    if (a) and (a.attrs.get('href') != None):\n",
    "        row_chunk[f\"{col_name}_href\"] = a.attrs.get('href')\n",
    "    return row_chunk"
   ]
  },
  {
   "cell_type": "code",
   "execution_count": 2,
   "id": "c7c6288c-7db7-4214-804d-9fb07108fc19",
   "metadata": {},
   "outputs": [],
   "source": [
    "urls = [\n",
    "    # 'https://fortworthgov.legistar.com/Calendar.aspx',\n",
    "    'https://cityofdallas.legistar.com/Calendar.aspx',\n",
    "    'https://seattle.legistar.com/Calendar.aspx',\n",
    "    'https://alexandria.legistar.com/Calendar.aspx',\n",
    "    'https://phila.legistar.com/Calendar.aspx',\n",
    "    'https://columbus.legistar.com/Calendar.aspx',\n",
    "    'https://newark.legistar.com/Calendar.aspx',\n",
    "    'https://phoenix.legistar.com/Calendar.aspx',\n",
    "    # \n",
    "    'https://durhamcounty.legistar.com/Calendar.aspx',\n",
    "    'https://denver.legistar.com/Calendar.aspx',\n",
    "    'https://fortworthgov.legistar.com/Calendar.aspx',\n",
    "    'https://jaxcityc.legistar.com/Calendar.aspx',\n",
    "]"
   ]
  },
  {
   "cell_type": "code",
   "execution_count": 3,
   "id": "431ab7b8-2eea-4127-b5ea-f128dcd67733",
   "metadata": {},
   "outputs": [],
   "source": [
    "playwright = await async_playwright().start()\n",
    "browser = await playwright.chromium.launch(headless=False)\n",
    "context = await browser.new_context()\n",
    "page = await context.new_page()"
   ]
  },
  {
   "cell_type": "code",
   "execution_count": 4,
   "id": "b379208d-df91-4ad7-8de3-b6b8de656d57",
   "metadata": {},
   "outputs": [],
   "source": [
    "# go to the page \n",
    "url = urls[-1]\n",
    "await page.goto(url)\n",
    "\n",
    "# change to \"all years\"\n",
    "await page.click('#ctl00_ContentPlaceHolder1_lstYears_Input')\n",
    "await page.click('#ctl00_ContentPlaceHolder1_lstYears_DropDown > div > ul > li:nth-child(1)')"
   ]
  },
  {
   "cell_type": "code",
   "execution_count": 6,
   "id": "30f35cba-0fd6-4f73-a513-c68c7737c962",
   "metadata": {},
   "outputs": [],
   "source": [
    "html = await page.content()\n",
    "soup = BeautifulSoup(html)\n",
    "page_bar = soup.find(attrs={'class': 'rgWrap rgInfoPart'}).get_text().strip()\n",
    "total_num_pages = int(re.search(r'Page \\d of (\\d+)', page_bar)[1])"
   ]
  },
  {
   "cell_type": "code",
   "execution_count": 7,
   "id": "a8eff98b-ff95-422f-9c1b-172ce6774982",
   "metadata": {},
   "outputs": [
    {
     "data": {
      "text/plain": [
       "16"
      ]
     },
     "execution_count": 7,
     "metadata": {},
     "output_type": "execute_result"
    }
   ],
   "source": [
    "total_num_pages"
   ]
  },
  {
   "cell_type": "code",
   "execution_count": null,
   "id": "4b3738f6-ffc0-4f36-b89a-f6ec19ad5c8c",
   "metadata": {},
   "outputs": [],
   "source": []
  },
  {
   "cell_type": "markdown",
   "id": "c7c75e52-dbe0-4c82-b52c-c81896c6ee50",
   "metadata": {},
   "source": [
    "### Get all meetings from meeting tables"
   ]
  },
  {
   "cell_type": "code",
   "execution_count": 11,
   "id": "1b9f373d-9fe6-4eb0-b208-68f34fafe635",
   "metadata": {
    "scrolled": true
   },
   "outputs": [
    {
     "name": "stdout",
     "output_type": "stream",
     "text": [
      "running page 1\n",
      "num rows: 9\n",
      "num rows: 100\n",
      "running page 2\n",
      "num rows: 9\n",
      "num rows: 100\n",
      "running page 3\n",
      "num rows: 9\n",
      "num rows: 100\n",
      "running page 4\n",
      "num rows: 9\n",
      "num rows: 100\n",
      "running page 5\n",
      "num rows: 9\n",
      "num rows: 100\n",
      "running page 6\n",
      "num rows: 9\n",
      "num rows: 100\n",
      "running page 7\n",
      "num rows: 9\n",
      "num rows: 100\n",
      "running page 8\n",
      "num rows: 9\n",
      "num rows: 100\n",
      "running page 9\n",
      "num rows: 9\n",
      "num rows: 100\n",
      "running page 10\n",
      "num rows: 9\n",
      "num rows: 100\n",
      "running page 11\n",
      "didn't find locator at: 11\n",
      "num rows: 9\n",
      "num rows: 100\n",
      "running page 12\n",
      "num rows: 9\n",
      "num rows: 100\n",
      "running page 13\n",
      "num rows: 9\n",
      "num rows: 100\n",
      "running page 14\n",
      "num rows: 9\n",
      "num rows: 100\n",
      "running page 15\n",
      "num rows: 9\n",
      "num rows: 100\n",
      "running page 16\n",
      "num rows: 9\n",
      "num rows: 39\n"
     ]
    }
   ],
   "source": [
    "# click through all the meetings\n",
    "pager_sel_path = '''#ctl00_ContentPlaceHolder1_gridCalendar_ctl00 > \n",
    "            thead > \n",
    "            tr.rgPager > \n",
    "            td > table > tbody > tr > td > div.rgWrap.rgNumPart > a'''\n",
    "\n",
    "all_rows = []\n",
    "# button_count = await page.locator(button_count_sel).count()\n",
    "for i in range(1, total_num_pages + 1):\n",
    "    print(f'running page {i}')\n",
    "    num_pages_sel = f'''{pager_sel_path}:has-text(\"{i}\")'''\n",
    "    await page.wait_for_selector(pager_sel_path)\n",
    "    on_page = await page.is_visible(num_pages_sel)\n",
    "    if on_page:\n",
    "        await page.locator(num_pages_sel).first.click()\n",
    "    else:\n",
    "        # if i == 14:\n",
    "            # break\n",
    "        print(f'didn\\'t find locator at: {i}')\n",
    "        await page.locator(f'''{pager_sel_path}[title=\"Next Pages\"]''').first.click()\n",
    "    time.sleep(5)\n",
    "\n",
    "    ## parse html \n",
    "    html = await page.content()\n",
    "    soup = BeautifulSoup(html)\n",
    "\n",
    "    tables = soup.find_all('table', attrs={'class': 'rgMasterTable'})\n",
    "    for table in tables:\n",
    "        table_head = table.find('thead')\n",
    "        table_head = list(filter(lambda x: (x != '\\n') and (x.attrs.get('class', [None])[0] != 'rgPager'), list(table_head.children)))[0]\n",
    "        table_body = table.find_all('tbody')\n",
    "    \n",
    "        table_col_names = list(map(lambda x: x.get_text().strip(), table_head.find_all('th')))\n",
    "        rows = table.find_all('tr', attrs={'class': 'rgRow'}) + table.find_all('tr', attrs={'class': 'rgAltRow'})\n",
    "        print(f'num rows: {len(rows)}')\n",
    "        for row in rows:\n",
    "            td_cols = row.find_all('td')\n",
    "            row_chunk = {}\n",
    "            for td_name, td in zip(table_col_names, td_cols):\n",
    "                row_chunk = process_row(td, td_name, row_chunk)\n",
    "            all_rows.append(row_chunk)"
   ]
  },
  {
   "cell_type": "code",
   "execution_count": 12,
   "id": "a034d420-b59e-4897-b5d2-963f35374ede",
   "metadata": {},
   "outputs": [],
   "source": [
    "all_rows_df = pd.DataFrame(sorted(all_rows, key=lambda x: -len(x)))"
   ]
  },
  {
   "cell_type": "code",
   "execution_count": 17,
   "id": "abef7de3-1467-4c34-8274-0ab9cd626769",
   "metadata": {},
   "outputs": [
    {
     "data": {
      "text/plain": [
       "(1683, 21)"
      ]
     },
     "execution_count": 17,
     "metadata": {},
     "output_type": "execute_result"
    }
   ],
   "source": [
    "all_rows_df.shape"
   ]
  },
  {
   "cell_type": "code",
   "execution_count": 22,
   "id": "a3259f88-ed44-4878-a8e5-799d34af03cb",
   "metadata": {},
   "outputs": [],
   "source": [
    "all_rows_df['Meeting Date'] = pd.to_datetime(all_rows_df['Meeting Date'])"
   ]
  },
  {
   "cell_type": "code",
   "execution_count": 28,
   "id": "7f304fbb-2a31-4949-96c8-5dd94f19421a",
   "metadata": {},
   "outputs": [
    {
     "data": {
      "text/html": [
       "<div>\n",
       "<style scoped>\n",
       "    .dataframe tbody tr th:only-of-type {\n",
       "        vertical-align: middle;\n",
       "    }\n",
       "\n",
       "    .dataframe tbody tr th {\n",
       "        vertical-align: top;\n",
       "    }\n",
       "\n",
       "    .dataframe thead th {\n",
       "        text-align: right;\n",
       "    }\n",
       "</style>\n",
       "<table border=\"1\" class=\"dataframe\">\n",
       "  <thead>\n",
       "    <tr style=\"text-align: right;\">\n",
       "      <th></th>\n",
       "      <th>Name</th>\n",
       "      <th>Name_href</th>\n",
       "      <th>Meeting Date</th>\n",
       "      <th>Add to Calendar</th>\n",
       "      <th>Add to Calendar_href</th>\n",
       "      <th>Meeting Time</th>\n",
       "      <th>Meeting Location</th>\n",
       "      <th>Meeting Details</th>\n",
       "      <th>Meeting Details_href</th>\n",
       "      <th>Agenda</th>\n",
       "      <th>...</th>\n",
       "      <th>Minutes</th>\n",
       "      <th>Minutes_href</th>\n",
       "      <th>Addendum</th>\n",
       "      <th>Addendum_href</th>\n",
       "      <th>Proposed Amends &amp; Subs</th>\n",
       "      <th>Proposed Amends &amp; Subs_href</th>\n",
       "      <th>Video</th>\n",
       "      <th>Video_href</th>\n",
       "      <th></th>\n",
       "      <th>_href</th>\n",
       "    </tr>\n",
       "  </thead>\n",
       "  <tbody>\n",
       "    <tr>\n",
       "      <th>0</th>\n",
       "      <td>City Council</td>\n",
       "      <td>DepartmentDetail.aspx?ID=39526&amp;GUID=AF102B62-F...</td>\n",
       "      <td>2024-05-14</td>\n",
       "      <td>Add to Calendar</td>\n",
       "      <td>View.ashx?M=IC&amp;ID=1110896&amp;GUID=44CDCE20-00E8-4...</td>\n",
       "      <td>5:00 PM</td>\n",
       "      <td>Council Chamber\\n1st Floor, City Hall</td>\n",
       "      <td>Meeting details</td>\n",
       "      <td>MeetingDetail.aspx?ID=1110896&amp;GUID=44CDCE20-00...</td>\n",
       "      <td>Agenda</td>\n",
       "      <td>...</td>\n",
       "      <td>Minutes</td>\n",
       "      <td>View.ashx?M=M&amp;ID=1110896&amp;GUID=44CDCE20-00E8-4F...</td>\n",
       "      <td>Addendum</td>\n",
       "      <td>View.ashx?M=E2&amp;ID=1110896&amp;GUID=44CDCE20-00E8-4...</td>\n",
       "      <td>Proposed Amends &amp; Subs</td>\n",
       "      <td>View.ashx?M=E3&amp;ID=1110896&amp;GUID=44CDCE20-00E8-4...</td>\n",
       "      <td>Video</td>\n",
       "      <td>#</td>\n",
       "      <td>NaN</td>\n",
       "      <td>NaN</td>\n",
       "    </tr>\n",
       "    <tr>\n",
       "      <th>1</th>\n",
       "      <td>City Council</td>\n",
       "      <td>DepartmentDetail.aspx?ID=39526&amp;GUID=AF102B62-F...</td>\n",
       "      <td>2024-03-26</td>\n",
       "      <td>Add to Calendar</td>\n",
       "      <td>View.ashx?M=IC&amp;ID=1110893&amp;GUID=A10CF4BE-28CC-4...</td>\n",
       "      <td>5:00 PM</td>\n",
       "      <td>Council Chamber\\n1st Floor, City Hall</td>\n",
       "      <td>Meeting details</td>\n",
       "      <td>MeetingDetail.aspx?ID=1110893&amp;GUID=A10CF4BE-28...</td>\n",
       "      <td>Agenda</td>\n",
       "      <td>...</td>\n",
       "      <td>Minutes</td>\n",
       "      <td>View.ashx?M=M&amp;ID=1110893&amp;GUID=A10CF4BE-28CC-46...</td>\n",
       "      <td>Addendum</td>\n",
       "      <td>View.ashx?M=E2&amp;ID=1110893&amp;GUID=A10CF4BE-28CC-4...</td>\n",
       "      <td>Proposed Amends &amp; Subs</td>\n",
       "      <td>View.ashx?M=E3&amp;ID=1110893&amp;GUID=A10CF4BE-28CC-4...</td>\n",
       "      <td>Video</td>\n",
       "      <td>#</td>\n",
       "      <td>NaN</td>\n",
       "      <td>NaN</td>\n",
       "    </tr>\n",
       "  </tbody>\n",
       "</table>\n",
       "<p>2 rows × 21 columns</p>\n",
       "</div>"
      ],
      "text/plain": [
       "           Name                                          Name_href  \\\n",
       "0  City Council  DepartmentDetail.aspx?ID=39526&GUID=AF102B62-F...   \n",
       "1  City Council  DepartmentDetail.aspx?ID=39526&GUID=AF102B62-F...   \n",
       "\n",
       "  Meeting Date  Add to Calendar  \\\n",
       "0   2024-05-14  Add to Calendar   \n",
       "1   2024-03-26  Add to Calendar   \n",
       "\n",
       "                                Add to Calendar_href Meeting Time  \\\n",
       "0  View.ashx?M=IC&ID=1110896&GUID=44CDCE20-00E8-4...      5:00 PM   \n",
       "1  View.ashx?M=IC&ID=1110893&GUID=A10CF4BE-28CC-4...      5:00 PM   \n",
       "\n",
       "                        Meeting Location  Meeting Details  \\\n",
       "0  Council Chamber\\n1st Floor, City Hall  Meeting details   \n",
       "1  Council Chamber\\n1st Floor, City Hall  Meeting details   \n",
       "\n",
       "                                Meeting Details_href  Agenda  ...  Minutes  \\\n",
       "0  MeetingDetail.aspx?ID=1110896&GUID=44CDCE20-00...  Agenda  ...  Minutes   \n",
       "1  MeetingDetail.aspx?ID=1110893&GUID=A10CF4BE-28...  Agenda  ...  Minutes   \n",
       "\n",
       "                                        Minutes_href  Addendum  \\\n",
       "0  View.ashx?M=M&ID=1110896&GUID=44CDCE20-00E8-4F...  Addendum   \n",
       "1  View.ashx?M=M&ID=1110893&GUID=A10CF4BE-28CC-46...  Addendum   \n",
       "\n",
       "                                       Addendum_href  Proposed Amends & Subs  \\\n",
       "0  View.ashx?M=E2&ID=1110896&GUID=44CDCE20-00E8-4...  Proposed Amends & Subs   \n",
       "1  View.ashx?M=E2&ID=1110893&GUID=A10CF4BE-28CC-4...  Proposed Amends & Subs   \n",
       "\n",
       "                         Proposed Amends & Subs_href  Video Video_href       \\\n",
       "0  View.ashx?M=E3&ID=1110896&GUID=44CDCE20-00E8-4...  Video          #  NaN   \n",
       "1  View.ashx?M=E3&ID=1110893&GUID=A10CF4BE-28CC-4...  Video          #  NaN   \n",
       "\n",
       "  _href  \n",
       "0   NaN  \n",
       "1   NaN  \n",
       "\n",
       "[2 rows x 21 columns]"
      ]
     },
     "execution_count": 28,
     "metadata": {},
     "output_type": "execute_result"
    }
   ],
   "source": [
    "import datetime\n",
    "all_rows_df.loc[lambda df: df['Meeting Date'] < datetime.datetime.now()].head(2)"
   ]
  },
  {
   "cell_type": "code",
   "execution_count": 35,
   "id": "82cb116a-dfeb-4ea7-b64a-b9de33333845",
   "metadata": {},
   "outputs": [],
   "source": [
    "all_rows_df = all_rows_df.drop_duplicates().loc[lambda df: df['Video_href'].notnull()]"
   ]
  },
  {
   "cell_type": "code",
   "execution_count": null,
   "id": "fd08de14-d10b-4268-b6d7-a1dae048c390",
   "metadata": {},
   "outputs": [],
   "source": []
  },
  {
   "cell_type": "code",
   "execution_count": 13,
   "id": "6e540b86-b293-47e8-a67a-00ff2c7629c7",
   "metadata": {},
   "outputs": [],
   "source": [
    "# all_rows_df.to_csv('../data/alexandria-meeting-dates.csv')\n",
    "# all_rows_df.to_csv('../data/seattle-meeting-dates.csv')\n",
    "# all_rows_df.to_csv('../data/dallas-meeting-dates.csv')\n",
    "# all_rows_df.to_csv('../data/philadelphia-meeting-dates.csv')\n",
    "# all_rows_df.to_csv('../data/columbus-meeting-dates.csv')\n",
    "# all_rows_df.to_csv('../data/newark-meeting-dates.csv')\n",
    "# all_rows_df.to_csv('../data/phoenix-meeting-dates.csv')\n",
    "all_rows_df.to_csv('../data/durham-meeting-dates.csv')"
   ]
  },
  {
   "cell_type": "code",
   "execution_count": 74,
   "id": "e125db2f-f620-43b9-9c7c-d69c998e7370",
   "metadata": {},
   "outputs": [],
   "source": [
    "# all_rows_df = pd.read_csv('../data/durham-meeting-dates.csv', index_col=0)"
   ]
  },
  {
   "cell_type": "code",
   "execution_count": 51,
   "id": "fd99bdea-89bf-4d52-b7fb-de5b58fca123",
   "metadata": {
    "scrolled": true
   },
   "outputs": [
    {
     "name": "stderr",
     "output_type": "stream",
     "text": [
      "/var/folders/xh/qnyq7yzj0r328_7hnb7pgxth0000gp/T/ipykernel_79289/3584300320.py:1: UserWarning: This pattern is interpreted as a regular expression, and has match groups. To actually get the groups, use str.extract.\n",
      "  all_rows_df = all_rows_df.loc[lambda df: ~df['Name'].str.contains('(inactive)')] #.loc[lambda df: df['Name'] == 'City Council'].head(3)\n"
     ]
    }
   ],
   "source": [
    "all_rows_df = all_rows_df.loc[lambda df: ~df['Name'].str.contains('(inactive)')] #.loc[lambda df: df['Name'] == 'City Council'].head(3)"
   ]
  },
  {
   "cell_type": "markdown",
   "id": "110f5d66-2851-4b44-9804-473afc101641",
   "metadata": {},
   "source": [
    "### Get all legislation from meetings"
   ]
  },
  {
   "cell_type": "code",
   "execution_count": 52,
   "id": "612ae0b0-99b6-4cfd-a888-3c730c1bda69",
   "metadata": {},
   "outputs": [],
   "source": [
    "from urllib.parse import urlparse"
   ]
  },
  {
   "cell_type": "code",
   "execution_count": null,
   "id": "ba057c80-65ec-4ca1-8943-414414729650",
   "metadata": {},
   "outputs": [],
   "source": [
    "meeting_detail_hrefs = ['Meeting Details_href', 'Details_href']\n",
    "meeting_href = None\n",
    "for c in meeting_detail_hrefs:\n",
    "    if c in all_rows_df.columns:\n",
    "        meeting_href = c\n",
    "\n",
    "meeting_details = (\n",
    "    all_rows_df\n",
    "        # .loc[lambda df: df['Name'] == 'City Council']\n",
    "        [meeting_href]\n",
    "        .dropna()\n",
    ")\n",
    "url_parts = urlparse(url)\n",
    "domain = url_parts[0] + '://' + url_parts[1]"
   ]
  },
  {
   "cell_type": "code",
   "execution_count": 19,
   "id": "d80495ca-2d59-4ed3-96df-14a5c76c04db",
   "metadata": {},
   "outputs": [],
   "source": [
    "from tqdm.auto import tqdm\n",
    "tqdm.pandas()"
   ]
  },
  {
   "cell_type": "code",
   "execution_count": 92,
   "id": "a76c9e76-0512-4bce-a588-17cf77baf317",
   "metadata": {
    "scrolled": true
   },
   "outputs": [
    {
     "data": {
      "application/vnd.jupyter.widget-view+json": {
       "model_id": "c953664266eb47adb86ed33f09b06e0a",
       "version_major": 2,
       "version_minor": 0
      },
      "text/plain": [
       "  0%|          | 0/381 [00:00<?, ?it/s]"
      ]
     },
     "metadata": {},
     "output_type": "display_data"
    },
    {
     "name": "stderr",
     "output_type": "stream",
     "text": [
      "Future exception was never retrieved\n",
      "future: <Future finished exception=Exception('Connection closed while reading from the driver')>\n",
      "Exception: Connection closed while reading from the driver\n",
      "Future exception was never retrieved\n",
      "future: <Future finished exception=TargetClosedError('Target page, context or browser has been closed')>\n",
      "playwright._impl._errors.TargetClosedError: Target page, context or browser has been closed\n"
     ]
    },
    {
     "name": "stdout",
     "output_type": "stream",
     "text": [
      "timeout error\n",
      "timeout error\n",
      "timeout error\n",
      "timeout error\n",
      "timeout error\n",
      "timeout error\n",
      "timeout error\n",
      "timeout error\n",
      "timeout error\n",
      "timeout error\n",
      "timeout error\n",
      "timeout error\n",
      "timeout error\n",
      "timeout error\n",
      "timeout error\n",
      "timeout error\n",
      "timeout error\n",
      "timeout error\n",
      "timeout error\n",
      "timeout error\n",
      "timeout error\n",
      "timeout error\n",
      "timeout error\n",
      "timeout error\n",
      "timeout error\n",
      "timeout error\n",
      "timeout error\n",
      "timeout error\n",
      "timeout error\n",
      "timeout error\n",
      "timeout error\n",
      "timeout error\n",
      "timeout error\n",
      "timeout error\n",
      "timeout error\n",
      "timeout error\n",
      "timeout error\n",
      "timeout error\n",
      "timeout error\n",
      "timeout error\n",
      "timeout error\n",
      "timeout error\n",
      "timeout error\n",
      "timeout error\n",
      "timeout error\n",
      "timeout error\n",
      "timeout error\n",
      "timeout error\n",
      "timeout error\n",
      "timeout error\n",
      "timeout error\n",
      "timeout error\n",
      "timeout error\n",
      "timeout error\n",
      "timeout error\n",
      "timeout error\n",
      "timeout error\n",
      "timeout error\n",
      "timeout error\n",
      "timeout error\n",
      "timeout error\n",
      "timeout error\n",
      "timeout error\n",
      "timeout error\n",
      "timeout error\n",
      "timeout error\n",
      "timeout error\n",
      "timeout error\n",
      "timeout error\n",
      "timeout error\n",
      "timeout error\n",
      "timeout error\n",
      "timeout error\n",
      "timeout error\n",
      "timeout error\n",
      "timeout error\n",
      "timeout error\n",
      "timeout error\n",
      "timeout error\n",
      "timeout error\n",
      "timeout error\n",
      "timeout error\n",
      "timeout error\n",
      "timeout error\n",
      "timeout error\n",
      "timeout error\n",
      "timeout error\n",
      "timeout error\n"
     ]
    }
   ],
   "source": [
    "rows_for_all_meetings = []\n",
    "for meeting_page in tqdm(meeting_details):\n",
    "    await page.goto(domain + '/' + meeting_page)\n",
    "    await page.wait_for_selector('#ctl00_ContentPlaceHolder1_gridMain_ctl00')\n",
    "    time.sleep(.1)\n",
    "    ## parse table \n",
    "    html = await page.content()\n",
    "    soup = BeautifulSoup(html)\n",
    "    table = soup.find('table', attrs={'class': 'rgMasterTable'})\n",
    "    t_head = table.find('thead')\n",
    "    t_body = table.find('tbody')\n",
    "    col_names = list(map(lambda x: x.get_text(), t_head.find_all('th')))\n",
    "    col_names = list(map(lambda x: unicodedata.normalize(\"NFKD\", x).replace(':', ''), col_names))\n",
    "    rows = t_body.find_all('tr')\n",
    "    all_meeting_rows = []\n",
    "    for tr in rows:\n",
    "        row_chunk = {}\n",
    "        for td_name, td in zip(col_names, tr.find_all('td')):\n",
    "            row_chunk = process_row(td, td_name, row_chunk)\n",
    "        all_meeting_rows.append(row_chunk)\n",
    "    all_meeting_rows_df = pd.DataFrame(all_meeting_rows)\n",
    "\n",
    "    # get video link\n",
    "    page_promise = context.wait_for_event('page', timeout=2000)\n",
    "    await page.locator('#ctl00_ContentPlaceHolder1_hypVideo').click()\n",
    "    try:\n",
    "        new_page = await page_promise\n",
    "        await new_page.wait_for_load_state()\n",
    "        video_url = new_page.url\n",
    "        await new_page.close()\n",
    "    except PlaywrightTimeoutError as t:\n",
    "        print(f'timeout error: {domain}/{meeting_page}')\n",
    "        video_url = None\n",
    "\n",
    "    all_meeting_rows_df['key'] = meeting_page\n",
    "    all_meeting_rows_df['video_url'] = video_url\n",
    "    ## append\n",
    "    rows_for_all_meetings.append(all_meeting_rows_df)"
   ]
  },
  {
   "cell_type": "code",
   "execution_count": 94,
   "id": "4a2ac0c4-5e34-45af-94b5-b31bf783ed26",
   "metadata": {},
   "outputs": [],
   "source": [
    "final_all_rows_meeting_df = pd.concat(rows_for_all_meetings)"
   ]
  },
  {
   "cell_type": "code",
   "execution_count": 95,
   "id": "83c7adcd-659f-47d8-9283-7e2c336c7dd4",
   "metadata": {},
   "outputs": [
    {
     "data": {
      "text/plain": [
       "(6471, 14)"
      ]
     },
     "execution_count": 95,
     "metadata": {},
     "output_type": "execute_result"
    }
   ],
   "source": [
    "final_all_rows_meeting_df.shape"
   ]
  },
  {
   "cell_type": "code",
   "execution_count": 97,
   "id": "53307d6c-80bf-49b4-95b5-b77ed27e4268",
   "metadata": {},
   "outputs": [
    {
     "data": {
      "text/plain": [
       "video_url\n",
       "False    5830\n",
       "True      641\n",
       "Name: count, dtype: int64"
      ]
     },
     "execution_count": 97,
     "metadata": {},
     "output_type": "execute_result"
    }
   ],
   "source": [
    "final_all_rows_meeting_df['video_url'].isnull().value_counts()"
   ]
  },
  {
   "cell_type": "code",
   "execution_count": 208,
   "id": "d3bd7fe2-0981-4dbb-94a0-c2665489da4f",
   "metadata": {},
   "outputs": [
    {
     "data": {
      "text/plain": [
       "(69143, 13)"
      ]
     },
     "execution_count": 208,
     "metadata": {},
     "output_type": "execute_result"
    }
   ],
   "source": [
    "final_all_rows_meeting_df.shape#.merge()"
   ]
  },
  {
   "cell_type": "code",
   "execution_count": 282,
   "id": "b6ab13ce-0d46-4e40-822b-ec8574e1b691",
   "metadata": {},
   "outputs": [
    {
     "data": {
      "text/plain": [
       "'https://newark.legistar.com/Calendar.aspx'"
      ]
     },
     "execution_count": 282,
     "metadata": {},
     "output_type": "execute_result"
    }
   ],
   "source": [
    "url"
   ]
  },
  {
   "cell_type": "code",
   "execution_count": 283,
   "id": "8dd2a70b-4c1a-4a0c-b8b7-7b8e3579bf26",
   "metadata": {},
   "outputs": [],
   "source": [
    "col_set = ['Name', 'Name_href', 'Date', 'Time', 'Location', meeting_href]\n",
    "col_set = ['Name', 'Date', 'Time', meeting_href]\n",
    "col_set = ['Name', 'Meeting Date', 'Meeting Time', 'Meeting Location', meeting_href, 'video_url']\n",
    "\n",
    "(final_all_rows_meeting_df\n",
    "     .rename(columns={'Name' : 'Notes'})\n",
    "     .merge(all_rows_df[col_set], left_on='key', right_on=meeting_href)\n",
    "     .drop(meeting_href, axis=1)\n",
    "     .loc[lambda df: df['Title'].notnull()]\n",
    "     .reset_index(drop=True)\n",
    "     .to_csv('../data/newark/newark-meeting-info.csv')\n",
    ")"
   ]
  },
  {
   "cell_type": "code",
   "execution_count": 285,
   "id": "664c0bc3-a19d-40c7-b8b5-75d22feb0aa3",
   "metadata": {},
   "outputs": [
    {
     "name": "stdout",
     "output_type": "stream",
     "text": [
      "../data/alexandria:\n",
      "alexandria-meeting-dates.csv  alexandria-meeting-info.csv\n",
      "\n",
      "../data/columbus:\n",
      "columbus-meeting-dates.csv  columbus-meeting-info.csv\n",
      "\n",
      "../data/dallas:\n",
      "dallas-meeting-dates.csv  dallas-meeting-info.csv\n",
      "\n",
      "../data/newark:\n",
      "newark-meeting-dates.csv  newark-meeting-info.csv\n",
      "\n",
      "../data/philadelphia:\n",
      "inquirer-urls-to-get.csv\n",
      "philadelphia-meeting-dates.csv\n",
      "philadelphia-meeting-info.csv\n",
      "philly-inquirer-cc-articles-to-fetch.txt.gz\n",
      "\n",
      "../data/phoenix:\n",
      "phoenix-meeting-dates.csv  phoenix-meeting-info.csv\n",
      "\n",
      "../data/seattle:\n",
      "seattle-meeting-dates.csv  seattle-meeting-info.csv\n"
     ]
    }
   ],
   "source": [
    "ls ../data/*"
   ]
  },
  {
   "cell_type": "code",
   "execution_count": null,
   "id": "df4fe090-b812-4e1c-85ee-2068cbb183da",
   "metadata": {},
   "outputs": [],
   "source": []
  },
  {
   "cell_type": "code",
   "execution_count": null,
   "id": "e50f258c-1a70-4368-b443-214cc16b1ac3",
   "metadata": {},
   "outputs": [],
   "source": []
  }
 ],
 "metadata": {
  "kernelspec": {
   "display_name": "Python 3 (ipykernel)",
   "language": "python",
   "name": "python3"
  },
  "language_info": {
   "codemirror_mode": {
    "name": "ipython",
    "version": 3
   },
   "file_extension": ".py",
   "mimetype": "text/x-python",
   "name": "python",
   "nbconvert_exporter": "python",
   "pygments_lexer": "ipython3",
   "version": "3.12.2"
  }
 },
 "nbformat": 4,
 "nbformat_minor": 5
}
