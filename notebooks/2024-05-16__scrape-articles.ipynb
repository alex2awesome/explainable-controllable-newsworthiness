{
 "cells": [
  {
   "cell_type": "code",
   "execution_count": 1,
   "id": "90cad15b-3e80-4b1d-872c-e956e3caaeca",
   "metadata": {},
   "outputs": [],
   "source": [
    "import pandas as pd "
   ]
  },
  {
   "cell_type": "code",
   "execution_count": 2,
   "id": "72fedcbf-47e4-459d-aa92-d1ce7d86c6ea",
   "metadata": {},
   "outputs": [
    {
     "name": "stdout",
     "output_type": "stream",
     "text": [
      "2024-05-14__scrape-city-council-meetings.ipynb\n",
      "2024-05-16__scrape-articles.ipynb\n"
     ]
    }
   ],
   "source": [
    "ls "
   ]
  },
  {
   "cell_type": "code",
   "execution_count": 4,
   "id": "2e340f4e-4592-483c-93b5-83f4636f6673",
   "metadata": {},
   "outputs": [],
   "source": [
    "domain = 'https://alextimes.com/'"
   ]
  },
  {
   "cell_type": "code",
   "execution_count": 5,
   "id": "c934d75f-0969-4877-8aa2-66c70f253dce",
   "metadata": {},
   "outputs": [],
   "source": [
    "from urllib.parse import urlencode, urlparse, urlunparse, parse_qs, urljoin\n",
    "def clean_url(to_get_url):\n",
    "    return urljoin(to_get_url, urlparse(to_get_url).path)"
   ]
  },
  {
   "cell_type": "markdown",
   "id": "39381273-ed2b-402a-966d-53015c62814b",
   "metadata": {},
   "source": [
    "# Get URLS"
   ]
  },
  {
   "cell_type": "markdown",
   "id": "ffa6c9a5-54fd-4e5f-8989-40cd4fd3e539",
   "metadata": {},
   "source": [
    "## alexandria"
   ]
  },
  {
   "cell_type": "code",
   "execution_count": 9,
   "id": "b65a8728-3cd8-4055-b138-7bf0f9380899",
   "metadata": {},
   "outputs": [],
   "source": [
    "import requests"
   ]
  },
  {
   "cell_type": "code",
   "execution_count": 8,
   "id": "aa88cf07-29ec-413a-a2a6-12a352574d7a",
   "metadata": {},
   "outputs": [],
   "source": [
    "alextimes_sitemap = [\n",
    "    'https://alextimes.com/post-sitemap.xml',\n",
    "    'https://alextimes.com/post-sitemap2.xml',\n",
    "    'https://alextimes.com/post-sitemap3.xml',\n",
    "    'https://alextimes.com/post-sitemap4.xml',\n",
    "    'https://alextimes.com/post-sitemap5.xml',\n",
    "    'https://alextimes.com/post-sitemap6.xml',\n",
    "    'https://alextimes.com/post-sitemap7.xml',\n",
    "    'https://alextimes.com/post-sitemap8.xml',\n",
    "    'https://alextimes.com/post-sitemap9.xml',\n",
    "    'https://alextimes.com/post-sitemap10.xml',\n",
    "    'https://alextimes.com/post-sitemap11.xml',\n",
    "    'https://alextimes.com/post-sitemap12.xml',\n",
    "    'https://alextimes.com/post-sitemap13.xml',\n",
    "    'https://alextimes.com/post-sitemap14.xml',\n",
    "    'https://alextimes.com/post-sitemap15.xml',\n",
    "    'https://alextimes.com/post-sitemap16.xml',\n",
    "]"
   ]
  },
  {
   "cell_type": "code",
   "execution_count": null,
   "id": "e8cc9c5e-4b11-4c65-a746-2899929c4a86",
   "metadata": {},
   "outputs": [],
   "source": []
  },
  {
   "cell_type": "code",
   "execution_count": null,
   "id": "20815b00-4db0-4fd3-95df-7fe3de53f3b1",
   "metadata": {},
   "outputs": [],
   "source": [
    "'https://www.alxnow.com/sitemap.xml'"
   ]
  },
  {
   "cell_type": "code",
   "execution_count": null,
   "id": "837eded3-4d95-4d72-811b-85b0ce4334b2",
   "metadata": {},
   "outputs": [],
   "source": [
    "https://www.alxnow.com/"
   ]
  },
  {
   "cell_type": "markdown",
   "id": "63989870-8869-409d-8367-81c9e64c482e",
   "metadata": {},
   "source": [
    "# Look at getting URLs through WaybackMachine"
   ]
  },
  {
   "cell_type": "code",
   "execution_count": 6,
   "id": "c0f0ef8b-792d-4c6e-b19e-5dc574dc772e",
   "metadata": {},
   "outputs": [],
   "source": [
    "import requests"
   ]
  },
  {
   "cell_type": "code",
   "execution_count": 33,
   "id": "2dcb19f3-5670-46dc-b174-cf157c6068da",
   "metadata": {},
   "outputs": [],
   "source": [
    "start_url = 'http://web.archive.org/cdx/search/cdx?url=alextimes.com/*&limit=10000&showResumeKey=true&output=json&filter=statuscode:200'"
   ]
  },
  {
   "cell_type": "code",
   "execution_count": null,
   "id": "da122c04-7b37-4bf5-83e9-df196b638489",
   "metadata": {},
   "outputs": [],
   "source": [
    "r = requests.get(start_url).json()\n",
    "resume_key = j[-1][0]"
   ]
  },
  {
   "cell_type": "code",
   "execution_count": 36,
   "id": "c862c50c-b649-4cfa-8489-a6da270635df",
   "metadata": {},
   "outputs": [],
   "source": [
    "resume_url = f'http://web.archive.org/cdx/search/cdx?url=alextimes.com/*&limit=10000&showResumeKey=true&resumeKey={resume_key}&output=json&filter=statuscode:200'"
   ]
  },
  {
   "cell_type": "code",
   "execution_count": 37,
   "id": "200f159c-a24f-4216-9b5c-a693200a1301",
   "metadata": {},
   "outputs": [],
   "source": [
    "r2 = requests.get(resume_url).json()"
   ]
  },
  {
   "cell_type": "code",
   "execution_count": 53,
   "id": "359f32d5-1e29-4177-aea6-2b8ad1cec625",
   "metadata": {},
   "outputs": [
    {
     "data": {
      "text/plain": [
       "1000.0"
      ]
     },
     "execution_count": 53,
     "metadata": {},
     "output_type": "execute_result"
    }
   ],
   "source": [
    "10_000_000 / 10_000"
   ]
  },
  {
   "cell_type": "code",
   "execution_count": 38,
   "id": "2dbb087a-889f-47f2-844c-5b99759ee661",
   "metadata": {},
   "outputs": [
    {
     "data": {
      "text/plain": [
       "['com,alextimes)/',\n",
       " '20050720004237',\n",
       " 'http://www.alextimes.com:80/',\n",
       " 'text/html',\n",
       " '200',\n",
       " 'XSSIIUVLJ3PKGGQPKSP726UGNXIR4OW5',\n",
       " '716']"
      ]
     },
     "execution_count": 38,
     "metadata": {},
     "output_type": "execute_result"
    }
   ],
   "source": [
    "r[1]"
   ]
  },
  {
   "cell_type": "code",
   "execution_count": 39,
   "id": "19042a28-b1e9-42ce-9bf3-1e363931eefa",
   "metadata": {},
   "outputs": [
    {
     "data": {
      "text/plain": [
       "['com,alextimes)/',\n",
       " '20220912122157',\n",
       " 'https://alextimes.com/',\n",
       " 'text/html',\n",
       " '200',\n",
       " 'KNS6VPN4EMI6U7CH3B4EFLSOEEC5WJ3O',\n",
       " '51408']"
      ]
     },
     "execution_count": 39,
     "metadata": {},
     "output_type": "execute_result"
    }
   ],
   "source": [
    "r2[1]"
   ]
  },
  {
   "cell_type": "code",
   "execution_count": 52,
   "id": "2837cafd-8ad1-482f-9551-22fb09f8315c",
   "metadata": {},
   "outputs": [
    {
     "data": {
      "text/html": [
       "<div>\n",
       "<style scoped>\n",
       "    .dataframe tbody tr th:only-of-type {\n",
       "        vertical-align: middle;\n",
       "    }\n",
       "\n",
       "    .dataframe tbody tr th {\n",
       "        vertical-align: top;\n",
       "    }\n",
       "\n",
       "    .dataframe thead th {\n",
       "        text-align: right;\n",
       "    }\n",
       "</style>\n",
       "<table border=\"1\" class=\"dataframe\">\n",
       "  <thead>\n",
       "    <tr style=\"text-align: right;\">\n",
       "      <th></th>\n",
       "      <th>0</th>\n",
       "      <th>1</th>\n",
       "      <th>2</th>\n",
       "      <th>3</th>\n",
       "      <th>4</th>\n",
       "      <th>5</th>\n",
       "      <th>6</th>\n",
       "    </tr>\n",
       "  </thead>\n",
       "  <tbody>\n",
       "    <tr>\n",
       "      <th>0</th>\n",
       "      <td>com,alextimes)/</td>\n",
       "      <td>20050720004237</td>\n",
       "      <td>http://www.alextimes.com:80/</td>\n",
       "      <td>text/html</td>\n",
       "      <td>200</td>\n",
       "      <td>XSSIIUVLJ3PKGGQPKSP726UGNXIR4OW5</td>\n",
       "      <td>716</td>\n",
       "    </tr>\n",
       "    <tr>\n",
       "      <th>1</th>\n",
       "      <td>com,alextimes)/</td>\n",
       "      <td>20050930203917</td>\n",
       "      <td>http://www.alextimes.com:80/</td>\n",
       "      <td>text/html</td>\n",
       "      <td>200</td>\n",
       "      <td>DVVEF27EJSVHULWTZWCGHUK2VEH465EM</td>\n",
       "      <td>1006</td>\n",
       "    </tr>\n",
       "    <tr>\n",
       "      <th>2</th>\n",
       "      <td>com,alextimes)/</td>\n",
       "      <td>20060111062510</td>\n",
       "      <td>http://www.alextimes.com:80/</td>\n",
       "      <td>text/html</td>\n",
       "      <td>200</td>\n",
       "      <td>SOQS43FAFSXDOCFDDO2NQXAMRJLDT24D</td>\n",
       "      <td>1365</td>\n",
       "    </tr>\n",
       "    <tr>\n",
       "      <th>3</th>\n",
       "      <td>com,alextimes)/</td>\n",
       "      <td>20060202040831</td>\n",
       "      <td>http://alextimes.com:80/</td>\n",
       "      <td>text/html</td>\n",
       "      <td>200</td>\n",
       "      <td>SOQS43FAFSXDOCFDDO2NQXAMRJLDT24D</td>\n",
       "      <td>1359</td>\n",
       "    </tr>\n",
       "    <tr>\n",
       "      <th>4</th>\n",
       "      <td>com,alextimes)/</td>\n",
       "      <td>20060205100030</td>\n",
       "      <td>http://alextimes.com:80/</td>\n",
       "      <td>text/html</td>\n",
       "      <td>200</td>\n",
       "      <td>SOQS43FAFSXDOCFDDO2NQXAMRJLDT24D</td>\n",
       "      <td>1361</td>\n",
       "    </tr>\n",
       "    <tr>\n",
       "      <th>...</th>\n",
       "      <td>...</td>\n",
       "      <td>...</td>\n",
       "      <td>...</td>\n",
       "      <td>...</td>\n",
       "      <td>...</td>\n",
       "      <td>...</td>\n",
       "      <td>...</td>\n",
       "    </tr>\n",
       "    <tr>\n",
       "      <th>9995</th>\n",
       "      <td>com,alextimes)/2008/07/neighbors-in-the-news9234</td>\n",
       "      <td>20231128192806</td>\n",
       "      <td>https://alextimes.com/2008/07/neighbors-in-the...</td>\n",
       "      <td>text/html</td>\n",
       "      <td>200</td>\n",
       "      <td>HFEKQ5GHVJUQETQU7F4JCAGYTAI62Z7S</td>\n",
       "      <td>38550</td>\n",
       "    </tr>\n",
       "    <tr>\n",
       "      <th>9996</th>\n",
       "      <td>com,alextimes)/2008/07/new-voter-campaign-targ...</td>\n",
       "      <td>20230924075157</td>\n",
       "      <td>https://alextimes.com/2008/07/new-voter-campai...</td>\n",
       "      <td>text/html</td>\n",
       "      <td>200</td>\n",
       "      <td>IEAVPAJAZHFDTFIUQ3X5ZI673UUIVWOE</td>\n",
       "      <td>34853</td>\n",
       "    </tr>\n",
       "    <tr>\n",
       "      <th>9997</th>\n",
       "      <td>com,alextimes)/2008/07/news-briefs-barack-obam...</td>\n",
       "      <td>20221006071858</td>\n",
       "      <td>https://alextimes.com/2008/07/news-briefs-bara...</td>\n",
       "      <td>text/html</td>\n",
       "      <td>200</td>\n",
       "      <td>NLLEQW4WBOEUKXUOLHWN3LH32GTUPKS2</td>\n",
       "      <td>37257</td>\n",
       "    </tr>\n",
       "    <tr>\n",
       "      <th>9998</th>\n",
       "      <td>com,alextimes)/2008/07/news-briefs-barack-obam...</td>\n",
       "      <td>20230201091303</td>\n",
       "      <td>https://alextimes.com/2008/07/news-briefs-bara...</td>\n",
       "      <td>text/html</td>\n",
       "      <td>200</td>\n",
       "      <td>6KEWLGVEGXUSKOJKQIMDZEKL7W3PE3TH</td>\n",
       "      <td>36799</td>\n",
       "    </tr>\n",
       "    <tr>\n",
       "      <th>9999</th>\n",
       "      <td>com,alextimes)/2008/07/news-briefs-barack-obam...</td>\n",
       "      <td>20230609044338</td>\n",
       "      <td>https://alextimes.com/2008/07/news-briefs-bara...</td>\n",
       "      <td>text/html</td>\n",
       "      <td>200</td>\n",
       "      <td>SSTKE2RF6UC5DGX2QBJZDGYH7YNLYYYA</td>\n",
       "      <td>34464</td>\n",
       "    </tr>\n",
       "  </tbody>\n",
       "</table>\n",
       "<p>10000 rows × 7 columns</p>\n",
       "</div>"
      ],
      "text/plain": [
       "                                                      0               1  \\\n",
       "0                                       com,alextimes)/  20050720004237   \n",
       "1                                       com,alextimes)/  20050930203917   \n",
       "2                                       com,alextimes)/  20060111062510   \n",
       "3                                       com,alextimes)/  20060202040831   \n",
       "4                                       com,alextimes)/  20060205100030   \n",
       "...                                                 ...             ...   \n",
       "9995   com,alextimes)/2008/07/neighbors-in-the-news9234  20231128192806   \n",
       "9996  com,alextimes)/2008/07/new-voter-campaign-targ...  20230924075157   \n",
       "9997  com,alextimes)/2008/07/news-briefs-barack-obam...  20221006071858   \n",
       "9998  com,alextimes)/2008/07/news-briefs-barack-obam...  20230201091303   \n",
       "9999  com,alextimes)/2008/07/news-briefs-barack-obam...  20230609044338   \n",
       "\n",
       "                                                      2          3    4  \\\n",
       "0                          http://www.alextimes.com:80/  text/html  200   \n",
       "1                          http://www.alextimes.com:80/  text/html  200   \n",
       "2                          http://www.alextimes.com:80/  text/html  200   \n",
       "3                              http://alextimes.com:80/  text/html  200   \n",
       "4                              http://alextimes.com:80/  text/html  200   \n",
       "...                                                 ...        ...  ...   \n",
       "9995  https://alextimes.com/2008/07/neighbors-in-the...  text/html  200   \n",
       "9996  https://alextimes.com/2008/07/new-voter-campai...  text/html  200   \n",
       "9997  https://alextimes.com/2008/07/news-briefs-bara...  text/html  200   \n",
       "9998  https://alextimes.com/2008/07/news-briefs-bara...  text/html  200   \n",
       "9999  https://alextimes.com/2008/07/news-briefs-bara...  text/html  200   \n",
       "\n",
       "                                     5      6  \n",
       "0     XSSIIUVLJ3PKGGQPKSP726UGNXIR4OW5    716  \n",
       "1     DVVEF27EJSVHULWTZWCGHUK2VEH465EM   1006  \n",
       "2     SOQS43FAFSXDOCFDDO2NQXAMRJLDT24D   1365  \n",
       "3     SOQS43FAFSXDOCFDDO2NQXAMRJLDT24D   1359  \n",
       "4     SOQS43FAFSXDOCFDDO2NQXAMRJLDT24D   1361  \n",
       "...                                ...    ...  \n",
       "9995  HFEKQ5GHVJUQETQU7F4JCAGYTAI62Z7S  38550  \n",
       "9996  IEAVPAJAZHFDTFIUQ3X5ZI673UUIVWOE  34853  \n",
       "9997  NLLEQW4WBOEUKXUOLHWN3LH32GTUPKS2  37257  \n",
       "9998  6KEWLGVEGXUSKOJKQIMDZEKL7W3PE3TH  36799  \n",
       "9999  SSTKE2RF6UC5DGX2QBJZDGYH7YNLYYYA  34464  \n",
       "\n",
       "[10000 rows x 7 columns]"
      ]
     },
     "execution_count": 52,
     "metadata": {},
     "output_type": "execute_result"
    }
   ],
   "source": [
    "pd.DataFrame(r[1:-2])"
   ]
  },
  {
   "cell_type": "code",
   "execution_count": null,
   "id": "41a14f15-f2b4-4234-871e-ce5e26153bd4",
   "metadata": {},
   "outputs": [],
   "source": []
  },
  {
   "cell_type": "code",
   "execution_count": null,
   "id": "ae6497b7-3a4e-41db-8cc1-b5a68f1499f7",
   "metadata": {},
   "outputs": [],
   "source": []
  },
  {
   "cell_type": "markdown",
   "id": "91cb67fe-e2a6-4926-a7a1-1cdd0acf11b2",
   "metadata": {},
   "source": [
    "# Philadelphia Inquirer"
   ]
  },
  {
   "cell_type": "markdown",
   "id": "27094342-c8c1-4177-bb92-4cffe7e46410",
   "metadata": {},
   "source": [
    "https://www.inquirer.com/arc/outboundfeeds/sitemap/2007-01-01/?outputType=xml\n",
    "...\n",
    "https://www.inquirer.com/arc/outboundfeeds/sitemap/2010-09-01/?outputType=xml\n",
    "https://www.inquirer.com/arc/outboundfeeds/sitemap2/2010-09-02/?outputType=xml\n",
    "...\n",
    "https://www.inquirer.com/arc/outboundfeeds/sitemap2/2019-05-18/?outputType=xml\n",
    "https://www.inquirer.com/arc/outboundfeeds/sitemap3/2019-05-19/?outputType=xml"
   ]
  },
  {
   "cell_type": "code",
   "execution_count": 58,
   "id": "d573c592-c839-4a21-b56c-9194d61f0c4d",
   "metadata": {},
   "outputs": [],
   "source": [
    "import requests\n",
    "import pandas as pd \n",
    "from tqdm.auto import tqdm"
   ]
  },
  {
   "cell_type": "code",
   "execution_count": 45,
   "id": "0a8f2fdf-4bc5-43d3-9fe9-623cbf24b706",
   "metadata": {},
   "outputs": [],
   "source": [
    "sitemap_1 = 'https://www.inquirer.com/arc/outboundfeeds/sitemap/{date}/?outputType=xml'\n",
    "sitemap_2 = 'https://www.inquirer.com/arc/outboundfeeds/sitemap2/{date}/?outputType=xml'\n",
    "sitemap_3 = 'https://www.inquirer.com/arc/outboundfeeds/sitemap3/{date}/?outputType=xml'"
   ]
  },
  {
   "cell_type": "code",
   "execution_count": 50,
   "id": "949b51c4-6de0-4dd4-8691-38d0708e4ec0",
   "metadata": {},
   "outputs": [],
   "source": [
    "dates_1 = pd.date_range('2007-01-01', '2010-09-01').to_series().reset_index(drop=True).apply(lambda x: sitemap_1.format(date=x.date()))\n",
    "dates_2 = pd.date_range('2010-09-02', '2019-05-18').to_series().reset_index(drop=True).apply(lambda x: sitemap_2.format(date=x.date()))\n",
    "dates_3 = pd.date_range('2019-05-19', '2024-05-15').to_series().reset_index(drop=True).apply(lambda x: sitemap_3.format(date=x.date()))"
   ]
  },
  {
   "cell_type": "code",
   "execution_count": 77,
   "id": "6bacfdb4-ab8c-4240-8969-54516f245578",
   "metadata": {},
   "outputs": [],
   "source": [
    "all_dates = pd.concat([\n",
    "    dates_1, dates_2, \n",
    "    dates_3\n",
    "])"
   ]
  },
  {
   "cell_type": "code",
   "execution_count": 78,
   "id": "e9c6fdd7-9fe0-4e64-83cb-eab6b8d8d00c",
   "metadata": {},
   "outputs": [
    {
     "data": {
      "application/vnd.jupyter.widget-view+json": {
       "model_id": "84a4a5882695422ea17fc68a03849710",
       "version_major": 2,
       "version_minor": 0
      },
      "text/plain": [
       "  0%|          | 0/6345 [00:00<?, ?it/s]"
      ]
     },
     "metadata": {},
     "output_type": "display_data"
    }
   ],
   "source": [
    "all_urls = []\n",
    "for d in tqdm(all_dates):\n",
    "    sitemap_xml = requests.get(d)\n",
    "    urls = BeautifulSoup(sitemap_xml.content, features='xml').find_all('loc')\n",
    "    urls = list(map(lambda x: x.get_text(), urls))\n",
    "    for u in urls:\n",
    "        all_urls.append({\n",
    "            'date': d.split('/')[-2],\n",
    "            'url': u\n",
    "        })"
   ]
  },
  {
   "cell_type": "code",
   "execution_count": 79,
   "id": "b3caa34a-5d9f-4c6c-abd0-334a7172d0cd",
   "metadata": {},
   "outputs": [],
   "source": [
    "all_urls_df = pd.DataFrame(all_urls)"
   ]
  },
  {
   "cell_type": "code",
   "execution_count": 81,
   "id": "58aaf403-ff92-4d3c-a4e9-05d8efcdf701",
   "metadata": {},
   "outputs": [],
   "source": [
    "all_urls_df.to_csv('../data/inquirer-urls-to-get.csv')"
   ]
  },
  {
   "cell_type": "code",
   "execution_count": 87,
   "id": "38eee893-66b1-4de2-924e-8649a831fdfe",
   "metadata": {},
   "outputs": [
    {
     "data": {
      "text/plain": [
       "<Axes: >"
      ]
     },
     "execution_count": 87,
     "metadata": {},
     "output_type": "execute_result"
    },
    {
     "data": {
      "image/png": "[encoded data removed]",
      "text/plain": [
       "<Figure size 640x480 with 1 Axes>"
      ]
     },
     "metadata": {},
     "output_type": "display_data"
    }
   ],
   "source": [
    "pd.to_datetime(all_urls_df['date']).hist()"
   ]
  },
  {
   "cell_type": "code",
   "execution_count": 90,
   "id": "c35f8f77-99f7-46d4-9a2f-d145eca47f02",
   "metadata": {},
   "outputs": [
    {
     "data": {
      "text/plain": [
       "'https://www.inquirer.com/philly/news/local/20070101_Cheltenham_Township_woman__49__dies_in_fire_1.html'"
      ]
     },
     "execution_count": 90,
     "metadata": {},
     "output_type": "execute_result"
    }
   ],
   "source": [
    "all_urls_df['url'].iloc[10]"
   ]
  },
  {
   "cell_type": "code",
   "execution_count": 75,
   "id": "774ca083-e945-4573-af94-921bb2004568",
   "metadata": {},
   "outputs": [
    {
     "data": {
      "text/plain": [
       "(99387,)"
      ]
     },
     "execution_count": 75,
     "metadata": {},
     "output_type": "execute_result"
    }
   ],
   "source": [
    "all_urls_df['url'].drop_duplicates().shape "
   ]
  },
  {
   "cell_type": "code",
   "execution_count": 25,
   "id": "4004aac2-f41d-435b-b886-e103a1980ba8",
   "metadata": {},
   "outputs": [
    {
     "data": {
      "text/plain": [
       "'http://web.archive.org/cdx/search/cdx?url=archive.org&limit=5&showResumeKey=true'"
      ]
     },
     "execution_count": 25,
     "metadata": {},
     "output_type": "execute_result"
    }
   ],
   "source": [
    "\"http://web.archive.org/cdx/search/cdx?url=inquirer.com/*&limit=100&showResumeKey=true\""
   ]
  },
  {
   "cell_type": "code",
   "execution_count": 92,
   "id": "2467f5f7-99e1-4307-9de9-e367ab3f283a",
   "metadata": {},
   "outputs": [
    {
     "name": "stdout",
     "output_type": "stream",
     "text": [
      "\u001b[34malexandria\u001b[m\u001b[m/   \u001b[34mdallas\u001b[m\u001b[m/       \u001b[34mphiladelphia\u001b[m\u001b[m/ \u001b[34mseattle\u001b[m\u001b[m/\n",
      "\u001b[34mcolumbus\u001b[m\u001b[m/     \u001b[34mnewark\u001b[m\u001b[m/       \u001b[34mphoenix\u001b[m\u001b[m/\n"
     ]
    }
   ],
   "source": [
    "ls ../data/"
   ]
  },
  {
   "cell_type": "code",
   "execution_count": null,
   "id": "2d2ccbbc-adb0-4f39-aa13-15719632bca5",
   "metadata": {},
   "outputs": [],
   "source": [
    "'alexandria times',      'alextimes.com',    # fetched \n",
    "'dallas morning news',   'dallasnews.com',   # fetched \n",
    "'philadelphia inquirer', 'inquirer.com',     # fetched \n",
    "'seattle times',         'seattletimes.com', # fetching\n",
    "'columbus dispatch',     'dispatch.com',     # fetching\n",
    "'newark news',           'nj.com',           # fetching\n",
    "'Arizona Republic',      'azcentral.com',    # fetched"
   ]
  },
  {
   "cell_type": "markdown",
   "id": "61098697-f2e6-4e3e-8131-e35c7eb4e7ea",
   "metadata": {},
   "source": [
    "# Look at Common Crawl URLs"
   ]
  },
  {
   "cell_type": "code",
   "execution_count": 3,
   "id": "943a3ad2-1872-4102-8717-3d47188803f1",
   "metadata": {},
   "outputs": [],
   "source": [
    "import json\n",
    "import re \n",
    "import glob\n",
    "import gzip\n",
    "from tqdm.auto import tqdm\n",
    "index_files = glob.glob('../data/*/*cc-articles-to-fetch.txt.gz')"
   ]
  },
  {
   "cell_type": "code",
   "execution_count": 2,
   "id": "a05c51e1-1c33-4809-b55a-579679fdf22b",
   "metadata": {},
   "outputs": [
    {
     "data": {
      "application/vnd.jupyter.widget-view+json": {
       "model_id": "2069ef1a54a24968847e7b2184f00a23",
       "version_major": 2,
       "version_minor": 0
      },
      "text/plain": [
       "  0%|          | 0/7 [00:00<?, ?it/s]"
      ]
     },
     "metadata": {},
     "output_type": "display_data"
    }
   ],
   "source": [
    "all_file_urls = {}\n",
    "for fp in tqdm(index_files):\n",
    "    file_urls = []\n",
    "    name = re.search(r'([^/]+)-cc-articles-to-fetch\\.txt\\.gz', fp)[1]\n",
    "    with gzip.open(fp) as f:\n",
    "        for line in f:\n",
    "            file_urls.append(line.decode())\n",
    "    all_file_urls[name] = file_urls"
   ]
  },
  {
   "cell_type": "code",
   "execution_count": 7,
   "id": "3e007078-a514-4367-8236-f62c22f83209",
   "metadata": {},
   "outputs": [
    {
     "data": {
      "application/vnd.jupyter.widget-view+json": {
       "model_id": "587f6e33e9c84ec9ab09b5881cbd87cf",
       "version_major": 2,
       "version_minor": 0
      },
      "text/plain": [
       "  0%|          | 0/7 [00:00<?, ?it/s]"
      ]
     },
     "metadata": {},
     "output_type": "display_data"
    }
   ],
   "source": [
    "seen_urls = set()\n",
    "all_urls = [] \n",
    "for name, f in tqdm(all_file_urls.items()):\n",
    "    for u in f:\n",
    "        if (u.strip() == '...') or (u.strip() == ''):\n",
    "            continue\n",
    "        try:\n",
    "            u_min_key = u.split()[1:]\n",
    "            u_min_key = ' '.join(u_min_key)\n",
    "            bracketed_text = re.search(r'\\{.*\\}', u_min_key)[0]\n",
    "            json_dat = json.loads(bracketed_text)\n",
    "            if json_dat['url'] not in seen_urls:\n",
    "                seen_urls.add(json_dat['url'])\n",
    "                json_dat['newspaper'] = name\n",
    "                all_urls.append(json_dat)\n",
    "        except:\n",
    "            print(f'failed on {u}...')"
   ]
  },
  {
   "cell_type": "code",
   "execution_count": 8,
   "id": "1c3a89ae-cc25-4092-ae0b-595cc429a226",
   "metadata": {},
   "outputs": [
    {
     "data": {
      "text/plain": [
       "7250113"
      ]
     },
     "execution_count": 8,
     "metadata": {},
     "output_type": "execute_result"
    }
   ],
   "source": [
    "len(seen_urls)"
   ]
  },
  {
   "cell_type": "code",
   "execution_count": 11,
   "id": "9092fb4d-5425-4b46-b2a7-2e51a1f7e28d",
   "metadata": {},
   "outputs": [],
   "source": [
    "import pandas as pd "
   ]
  },
  {
   "cell_type": "code",
   "execution_count": 13,
   "id": "ca390f50-bfaf-439f-8cda-34a6ddd6540c",
   "metadata": {},
   "outputs": [],
   "source": [
    "all_urls_df = pd.DataFrame(all_urls)"
   ]
  },
  {
   "cell_type": "code",
   "execution_count": 15,
   "id": "cdef83e7-d89a-42e0-8635-b7df3a01f34b",
   "metadata": {},
   "outputs": [
    {
     "data": {
      "text/plain": [
       "newspaper\n",
       "seattle-times          1756947\n",
       "dallas-morning-news    1437633\n",
       "star-ledger            1418946\n",
       "azcentral              1154922\n",
       "columbus-dispatch       824197\n",
       "philly-inquirer         389696\n",
       "alexandria-times        267772\n",
       "Name: count, dtype: int64"
      ]
     },
     "execution_count": 15,
     "metadata": {},
     "output_type": "execute_result"
    }
   ],
   "source": [
    "all_urls_df['newspaper'].value_counts()"
   ]
  },
  {
   "cell_type": "code",
   "execution_count": null,
   "id": "e950e265-73ca-4528-9d38-b85f1199a5cf",
   "metadata": {},
   "outputs": [],
   "source": []
  },
  {
   "cell_type": "code",
   "execution_count": null,
   "id": "0c3bced3-4680-46d3-97bf-682228d2ecbd",
   "metadata": {},
   "outputs": [],
   "source": []
  },
  {
   "cell_type": "code",
   "execution_count": 3,
   "id": "aae3f9b3-1815-46ab-bbc2-8a9b2b2f9822",
   "metadata": {},
   "outputs": [
    {
     "data": {
      "text/html": [
       "<div>\n",
       "<style scoped>\n",
       "    .dataframe tbody tr th:only-of-type {\n",
       "        vertical-align: middle;\n",
       "    }\n",
       "\n",
       "    .dataframe tbody tr th {\n",
       "        vertical-align: top;\n",
       "    }\n",
       "\n",
       "    .dataframe thead th {\n",
       "        text-align: right;\n",
       "    }\n",
       "</style>\n",
       "<table border=\"1\" class=\"dataframe\">\n",
       "  <thead>\n",
       "    <tr style=\"text-align: right;\">\n",
       "      <th></th>\n",
       "      <th>Unnamed: 0</th>\n",
       "      <th>date</th>\n",
       "      <th>url</th>\n",
       "    </tr>\n",
       "  </thead>\n",
       "  <tbody>\n",
       "    <tr>\n",
       "      <th>0</th>\n",
       "      <td>0</td>\n",
       "      <td>2007-01-01</td>\n",
       "      <td>https://www.inquirer.com/philly/blogs/inq-blin...</td>\n",
       "    </tr>\n",
       "    <tr>\n",
       "      <th>1</th>\n",
       "      <td>1</td>\n",
       "      <td>2007-01-01</td>\n",
       "      <td>https://www.inquirer.com/philly/news/nation_wo...</td>\n",
       "    </tr>\n",
       "    <tr>\n",
       "      <th>2</th>\n",
       "      <td>2</td>\n",
       "      <td>2007-01-01</td>\n",
       "      <td>https://www.inquirer.com/philly/entertainment/...</td>\n",
       "    </tr>\n",
       "    <tr>\n",
       "      <th>3</th>\n",
       "      <td>3</td>\n",
       "      <td>2007-01-01</td>\n",
       "      <td>https://www.inquirer.com/philly/business/20070...</td>\n",
       "    </tr>\n",
       "    <tr>\n",
       "      <th>4</th>\n",
       "      <td>4</td>\n",
       "      <td>2007-01-01</td>\n",
       "      <td>https://www.inquirer.com/philly/opinion/200701...</td>\n",
       "    </tr>\n",
       "    <tr>\n",
       "      <th>...</th>\n",
       "      <td>...</td>\n",
       "      <td>...</td>\n",
       "      <td>...</td>\n",
       "    </tr>\n",
       "    <tr>\n",
       "      <th>951831</th>\n",
       "      <td>951831</td>\n",
       "      <td>2024-05-15</td>\n",
       "      <td>https://www.inquirer.com/opinion/letters/inqui...</td>\n",
       "    </tr>\n",
       "    <tr>\n",
       "      <th>951832</th>\n",
       "      <td>951832</td>\n",
       "      <td>2024-05-15</td>\n",
       "      <td>https://www.inquirer.com/life/dear-abby-this-f...</td>\n",
       "    </tr>\n",
       "    <tr>\n",
       "      <th>951833</th>\n",
       "      <td>951833</td>\n",
       "      <td>2024-05-15</td>\n",
       "      <td>https://www.inquirer.com/entertainment/horosco...</td>\n",
       "    </tr>\n",
       "    <tr>\n",
       "      <th>951834</th>\n",
       "      <td>951834</td>\n",
       "      <td>2024-05-15</td>\n",
       "      <td>https://www.inquirer.com/news/pennsylvania/chr...</td>\n",
       "    </tr>\n",
       "    <tr>\n",
       "      <th>951835</th>\n",
       "      <td>951835</td>\n",
       "      <td>2024-05-15</td>\n",
       "      <td>https://www.inquirer.com/business/vanguard-new...</td>\n",
       "    </tr>\n",
       "  </tbody>\n",
       "</table>\n",
       "<p>951836 rows × 3 columns</p>\n",
       "</div>"
      ],
      "text/plain": [
       "        Unnamed: 0        date  \\\n",
       "0                0  2007-01-01   \n",
       "1                1  2007-01-01   \n",
       "2                2  2007-01-01   \n",
       "3                3  2007-01-01   \n",
       "4                4  2007-01-01   \n",
       "...            ...         ...   \n",
       "951831      951831  2024-05-15   \n",
       "951832      951832  2024-05-15   \n",
       "951833      951833  2024-05-15   \n",
       "951834      951834  2024-05-15   \n",
       "951835      951835  2024-05-15   \n",
       "\n",
       "                                                      url  \n",
       "0       https://www.inquirer.com/philly/blogs/inq-blin...  \n",
       "1       https://www.inquirer.com/philly/news/nation_wo...  \n",
       "2       https://www.inquirer.com/philly/entertainment/...  \n",
       "3       https://www.inquirer.com/philly/business/20070...  \n",
       "4       https://www.inquirer.com/philly/opinion/200701...  \n",
       "...                                                   ...  \n",
       "951831  https://www.inquirer.com/opinion/letters/inqui...  \n",
       "951832  https://www.inquirer.com/life/dear-abby-this-f...  \n",
       "951833  https://www.inquirer.com/entertainment/horosco...  \n",
       "951834  https://www.inquirer.com/news/pennsylvania/chr...  \n",
       "951835  https://www.inquirer.com/business/vanguard-new...  \n",
       "\n",
       "[951836 rows x 3 columns]"
      ]
     },
     "execution_count": 3,
     "metadata": {},
     "output_type": "execute_result"
    }
   ],
   "source": [
    "import pandas as pd \n",
    "# pd.read_csv('../data/philadelphia/inquirer-urls-to-get.csv')"
   ]
  },
  {
   "cell_type": "code",
   "execution_count": null,
   "id": "a6215ab8-dc30-48f5-9e76-d40cbe7284ba",
   "metadata": {},
   "outputs": [],
   "source": []
  },
  {
   "cell_type": "code",
   "execution_count": null,
   "id": "803407e8-a515-405c-af3a-4c64bbbb84cc",
   "metadata": {},
   "outputs": [],
   "source": []
  },
  {
   "cell_type": "code",
   "execution_count": null,
   "id": "b8c08163-b22e-4086-a9ab-a0e1d44fc5dc",
   "metadata": {},
   "outputs": [],
   "source": []
  },
  {
   "cell_type": "code",
   "execution_count": null,
   "id": "dcbc08c6-f466-4e2b-8ed4-d91c41c2d6ec",
   "metadata": {},
   "outputs": [],
   "source": []
  }
 ],
 "metadata": {
  "kernelspec": {
   "display_name": "Python 3 (ipykernel)",
   "language": "python",
   "name": "python3"
  },
  "language_info": {
   "codemirror_mode": {
    "name": "ipython",
    "version": 3
   },
   "file_extension": ".py",
   "mimetype": "text/x-python",
   "name": "python",
   "nbconvert_exporter": "python",
   "pygments_lexer": "ipython3",
   "version": "3.12.2"
  }
 },
 "nbformat": 4,
 "nbformat_minor": 5
}
