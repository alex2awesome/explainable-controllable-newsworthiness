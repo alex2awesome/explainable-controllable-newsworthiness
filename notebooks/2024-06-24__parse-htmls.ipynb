{
 "cells": [
  {
   "cell_type": "code",
   "execution_count": 39,
   "id": "d9d0b99a-03cc-40ba-a143-15471839d9a1",
   "metadata": {},
   "outputs": [],
   "source": [
    "import glob\n",
    "import urllib\n",
    "from collections import defaultdict\n",
    "import os\n",
    "from bs4 import BeautifulSoup"
   ]
  },
  {
   "cell_type": "code",
   "execution_count": 5,
   "id": "64cf835e-a779-41c9-90c5-26b5b1230b90",
   "metadata": {},
   "outputs": [],
   "source": [
    "files_to_check = glob.glob('sample_htmls_to_download/*')"
   ]
  },
  {
   "cell_type": "code",
   "execution_count": 31,
   "id": "769405dd-7e65-49e6-9f3d-62a6ad12f2b0",
   "metadata": {},
   "outputs": [],
   "source": [
    "fmap = defaultdict(list)\n",
    "for f in files_to_check:\n",
    "    f_i = os.path.basename(f)\n",
    "    f_p = urllib.parse.unquote(f_i)\n",
    "    d = urllib.parse.urlparse(f_p).netloc.replace('www.', '')\n",
    "    fmap[d].append(f)"
   ]
  },
  {
   "cell_type": "markdown",
   "id": "dbb35c3e-90db-4e1e-ab62-2bd5c44cdcaf",
   "metadata": {},
   "source": [
    "fortworthgov.granicus.com\n",
    "durhamcounty.granicus.com\n",
    "denver.granicus.com\n",
    "jaxcityc.granicus.com\n",
    "----------------------------------\n",
    "\n",
    "#index > .index-point\n",
    "\n",
    "attr = time\n",
    "\n",
    "---------------------------------------------------------------\n",
    "\n",
    "seattlechannel.org\n",
    "---------------------------------\n",
    "\n",
    ".videoIndex > .seekItem\n",
    "\n",
    "attr = data-seek\n",
    "\n",
    "---------------------------------------------------------------\n",
    "\n",
    "newark.granicus.com\n",
    "---------------------------------\n",
    "\n",
    ".indexPoints > a\n",
    "\n",
    "attr = time"
   ]
  },
  {
   "cell_type": "code",
   "execution_count": 106,
   "id": "6154d8fa-9901-48bf-8119-3fd375b18963",
   "metadata": {},
   "outputs": [
    {
     "data": {
      "text/plain": [
       "['fortworthgov.granicus.com',\n",
       " 'durhamcounty.granicus.com',\n",
       " 'seattlechannel.org',\n",
       " 'newark.granicus.com',\n",
       " 'denver.granicus.com',\n",
       " 'jaxcityc.granicus.com']"
      ]
     },
     "execution_count": 106,
     "metadata": {},
     "output_type": "execute_result"
    }
   ],
   "source": [
    "list(fmap.keys())"
   ]
  },
  {
   "cell_type": "code",
   "execution_count": 102,
   "id": "f8ce6a1f-fa4a-4593-989b-c27c4f793dc3",
   "metadata": {},
   "outputs": [],
   "source": [
    "outlet_idx = 5\n",
    "file_idx = 1\n",
    "i = list(fmap.items())[outlet_idx][1][file_idx]\n",
    "# ! open $i"
   ]
  },
  {
   "cell_type": "code",
   "execution_count": 103,
   "id": "0fc6c45b-1e36-4785-937f-17594163d0e2",
   "metadata": {},
   "outputs": [
    {
     "data": {
      "text/plain": [
       "'https://jaxcityc.granicus.com/player/clip/5466?view_id=1&redirect=true.html'"
      ]
     },
     "execution_count": 103,
     "metadata": {},
     "output_type": "execute_result"
    }
   ],
   "source": [
    "f_i = os.path.basename(i)\n",
    "urllib.parse.unquote(f_i)"
   ]
  },
  {
   "cell_type": "code",
   "execution_count": 105,
   "id": "e9439c92-c695-41f1-98ad-3d0c037562ba",
   "metadata": {},
   "outputs": [],
   "source": [
    "soup = BeautifulSoup(open(i).read())"
   ]
  },
  {
   "cell_type": "code",
   "execution_count": 111,
   "id": "85355135-2255-4b24-9e46-bc18760b36f9",
   "metadata": {},
   "outputs": [
    {
     "data": {
      "text/plain": [
       "'11'"
      ]
     },
     "execution_count": 111,
     "metadata": {},
     "output_type": "execute_result"
    }
   ],
   "source": [
    "soup.find(attrs={'id': 'index'}).find_all(attrs={'class': 'index-point'})[0].attrs['time']"
   ]
  },
  {
   "cell_type": "code",
   "execution_count": null,
   "id": "8ddd58b1-b44d-4da3-817a-362a1958a927",
   "metadata": {},
   "outputs": [],
   "source": [
    "lookup_dict = []\n",
    "\n",
    "for d in [\n",
    "    'fortworthgov.granicus.com',\n",
    "    'durhamcounty.granicus.com',\n",
    "    'denver.granicus.com',\n",
    "    'jaxcityc.granicus.com',\n",
    "]:\n",
    "    lookup_dict.append({\n",
    "        'domain': d,\n",
    "        'first_level': '#index',\n",
    "        'second_level': '.index-point',\n",
    "        'attr': 'time'\n",
    "    })\n",
    "\n",
    "lookup_dict.append({\n",
    "    'domain': 'seattlechannel.org',\n",
    "    'first_level': '.videoIndex',\n",
    "    'second_level': '.seekItem',\n",
    "    'attr': 'data-seek',\n",
    "})\n",
    "\n",
    "\n",
    "lookup_dict.append({\n",
    "    'domain': 'newark.granicus.com',\n",
    "    'first_level': '.indexPoints',\n",
    "    'second_level': 'a',\n",
    "    'attr': 'time',\n",
    "})\n",
    "\n",
    "import pandas as pd \n",
    "lookup_df = pd.DataFrame(lookup_dict).set_index('domain')"
   ]
  },
  {
   "cell_type": "code",
   "execution_count": 116,
   "id": "c492ff94-c55e-4b31-a465-ad6395a19eb6",
   "metadata": {},
   "outputs": [
    {
     "data": {
      "text/html": [
       "<div>\n",
       "<style scoped>\n",
       "    .dataframe tbody tr th:only-of-type {\n",
       "        vertical-align: middle;\n",
       "    }\n",
       "\n",
       "    .dataframe tbody tr th {\n",
       "        vertical-align: top;\n",
       "    }\n",
       "\n",
       "    .dataframe thead th {\n",
       "        text-align: right;\n",
       "    }\n",
       "</style>\n",
       "<table border=\"1\" class=\"dataframe\">\n",
       "  <thead>\n",
       "    <tr style=\"text-align: right;\">\n",
       "      <th></th>\n",
       "      <th>first_level</th>\n",
       "      <th>second_level</th>\n",
       "      <th>attr</th>\n",
       "    </tr>\n",
       "    <tr>\n",
       "      <th>domain</th>\n",
       "      <th></th>\n",
       "      <th></th>\n",
       "      <th></th>\n",
       "    </tr>\n",
       "  </thead>\n",
       "  <tbody>\n",
       "    <tr>\n",
       "      <th>fortworthgov.granicus.com</th>\n",
       "      <td>#index</td>\n",
       "      <td>.index-point</td>\n",
       "      <td>time</td>\n",
       "    </tr>\n",
       "    <tr>\n",
       "      <th>durhamcounty.granicus.com</th>\n",
       "      <td>#index</td>\n",
       "      <td>.index-point</td>\n",
       "      <td>time</td>\n",
       "    </tr>\n",
       "    <tr>\n",
       "      <th>denver.granicus.com</th>\n",
       "      <td>#index</td>\n",
       "      <td>.index-point</td>\n",
       "      <td>time</td>\n",
       "    </tr>\n",
       "    <tr>\n",
       "      <th>jaxcityc.granicus.com</th>\n",
       "      <td>#index</td>\n",
       "      <td>.index-point</td>\n",
       "      <td>time</td>\n",
       "    </tr>\n",
       "    <tr>\n",
       "      <th>seattlechannel.org</th>\n",
       "      <td>.videoIndex</td>\n",
       "      <td>.seekItem</td>\n",
       "      <td>data-seek</td>\n",
       "    </tr>\n",
       "    <tr>\n",
       "      <th>newark.granicus.com</th>\n",
       "      <td>.indexPoints</td>\n",
       "      <td>a</td>\n",
       "      <td>time</td>\n",
       "    </tr>\n",
       "  </tbody>\n",
       "</table>\n",
       "</div>"
      ],
      "text/plain": [
       "                            first_level  second_level       attr\n",
       "domain                                                          \n",
       "fortworthgov.granicus.com        #index  .index-point       time\n",
       "durhamcounty.granicus.com        #index  .index-point       time\n",
       "denver.granicus.com              #index  .index-point       time\n",
       "jaxcityc.granicus.com            #index  .index-point       time\n",
       "seattlechannel.org          .videoIndex     .seekItem  data-seek\n",
       "newark.granicus.com        .indexPoints             a       time"
      ]
     },
     "execution_count": 116,
     "metadata": {},
     "output_type": "execute_result"
    }
   ],
   "source": [
    "lookup_df"
   ]
  },
  {
   "cell_type": "code",
   "execution_count": 160,
   "id": "55c5a49b-f836-43c3-94d7-e432b658c3cb",
   "metadata": {},
   "outputs": [
    {
     "name": "stdout",
     "output_type": "stream",
     "text": [
      "https://www.seattlechannel.org/CouncilBriefings?videoid=x100805&amp;Mode2=Video.html\n",
      "https://jaxcityc.granicus.com/player/clip/1109?view_id=1&redirect=true.html\n",
      "https://denver.granicus.com/player/clip/14283?view_id=180&redirect=true.html\n",
      "https://jaxcityc.granicus.com/player/clip/2312?view_id=1&redirect=true.html\n",
      "https://www.seattlechannel.org/videos?videoid=x108058&amp;Mode2=Video.html\n",
      "https://seattlechannel.org/mayor-and-council/city-council/2022-2023-public-safety-and-human-services/?videoid=x137547&amp;Mode2=Video.html\n",
      "https://denver.granicus.com/player/clip/14089?view_id=180&redirect=true.html\n"
     ]
    }
   ],
   "source": [
    "for f in files_to_check:\n",
    "    f_i = os.path.basename(f)\n",
    "    f_p = urllib.parse.unquote(f_i)\n",
    "    d = urllib.parse.urlparse(f_p).netloc.replace('www.', '')\n",
    "    f_level, s_level, attr = lookup_df.loc[d]\n",
    "    sel = f'{f_level} > {s_level}'\n",
    "    \n",
    "    soup = BeautifulSoup(open(f).read())\n",
    "    index_points = soup.select(sel)\n",
    "\n",
    "    schedule = []\n",
    "    for i in index_points:\n",
    "        schedule.append({\n",
    "            'time': i.attrs[attr],\n",
    "            'title': i.get_text().strip()\n",
    "        })\n",
    "\n",
    "    if len(schedule) == 0:\n",
    "        print(f_p)\n",
    "        \n",
    "    output_fname = f.replace('.html', '.schedule.csv')\n",
    "    pd.DataFrame(schedule).to_csv(output_fname)"
   ]
  },
  {
   "cell_type": "code",
   "execution_count": 161,
   "id": "4df20550-4281-4d01-91c6-b353e60cddca",
   "metadata": {},
   "outputs": [
    {
     "name": "stdout",
     "output_type": "stream",
     "text": [
      "-rw-r--r--@ 1 spangher  staff    97B Jun 24 20:30 sample_htmls_to_download/https%3A%2F%2Fdenver.granicus.com%2Fplayer%2Fclip%2F12936%3Fview_id%3D180%26redirect%3Dtrue.schedule.csv\n",
      "-rw-r--r--@ 1 spangher  staff     3B Jun 24 20:30 sample_htmls_to_download/https%3A%2F%2Fdenver.granicus.com%2Fplayer%2Fclip%2F14089%3Fview_id%3D180%26redirect%3Dtrue.schedule.csv\n",
      "-rw-r--r--@ 1 spangher  staff     3B Jun 24 20:30 sample_htmls_to_download/https%3A%2F%2Fdenver.granicus.com%2Fplayer%2Fclip%2F14283%3Fview_id%3D180%26redirect%3Dtrue.schedule.csv\n",
      "-rw-r--r--@ 1 spangher  staff   4.2K Jun 24 20:30 sample_htmls_to_download/https%3A%2F%2Fdenver.granicus.com%2Fplayer%2Fclip%2F14442%3Fview_id%3D180%26redirect%3Dtrue.schedule.csv\n",
      "-rw-r--r--@ 1 spangher  staff   399B Jun 24 20:30 sample_htmls_to_download/https%3A%2F%2Fdenver.granicus.com%2Fplayer%2Fclip%2F14894%3Fview_id%3D180%26redirect%3Dtrue.schedule.csv\n",
      "-rw-r--r--@ 1 spangher  staff   1.0K Jun 24 20:30 sample_htmls_to_download/https%3A%2F%2Fdurhamcounty.granicus.com%2Fplayer%2Fclip%2F1076%3Fview_id%3D3%26redirect%3Dtrue.schedule.csv\n",
      "-rw-r--r--@ 1 spangher  staff   1.3K Jun 24 20:30 sample_htmls_to_download/https%3A%2F%2Fdurhamcounty.granicus.com%2Fplayer%2Fclip%2F1081%3Fview_id%3D3%26redirect%3Dtrue.schedule.csv\n",
      "-rw-r--r--@ 1 spangher  staff   1.2K Jun 24 20:30 sample_htmls_to_download/https%3A%2F%2Fdurhamcounty.granicus.com%2Fplayer%2Fclip%2F1190%3Fview_id%3D3%26redirect%3Dtrue.schedule.csv\n",
      "-rw-r--r--@ 1 spangher  staff   1.2K Jun 24 20:30 sample_htmls_to_download/https%3A%2F%2Fdurhamcounty.granicus.com%2Fplayer%2Fclip%2F1394%3Fview_id%3D3%26redirect%3Dtrue.schedule.csv\n",
      "-rw-r--r--@ 1 spangher  staff   788B Jun 24 20:30 sample_htmls_to_download/https%3A%2F%2Fdurhamcounty.granicus.com%2Fplayer%2Fclip%2F934%3Fview_id%3D3%26redirect%3Dtrue.schedule.csv\n",
      "-rw-r--r--@ 1 spangher  staff   6.9K Jun 24 20:30 sample_htmls_to_download/https%3A%2F%2Ffortworthgov.granicus.com%2Fplayer%2Fclip%2F3260%3Fview_id%3D5%26redirect%3Dtrue.schedule.csv\n",
      "-rw-r--r--@ 1 spangher  staff   3.8K Jun 24 20:30 sample_htmls_to_download/https%3A%2F%2Ffortworthgov.granicus.com%2Fplayer%2Fclip%2F3298%3Fview_id%3D5%26redirect%3Dtrue.schedule.csv\n",
      "-rw-r--r--@ 1 spangher  staff   382B Jun 24 20:30 sample_htmls_to_download/https%3A%2F%2Ffortworthgov.granicus.com%2Fplayer%2Fclip%2F3574%3Fview_id%3D5%26redirect%3Dtrue.schedule.csv\n",
      "-rw-r--r--@ 1 spangher  staff   4.5K Jun 24 20:30 sample_htmls_to_download/https%3A%2F%2Ffortworthgov.granicus.com%2Fplayer%2Fclip%2F4243%3Fview_id%3D5%26redirect%3Dtrue.schedule.csv\n",
      "-rw-r--r--@ 1 spangher  staff    10K Jun 24 20:30 sample_htmls_to_download/https%3A%2F%2Ffortworthgov.granicus.com%2Fplayer%2Fclip%2F4441%3Fview_id%3D5%26redirect%3Dtrue.schedule.csv\n",
      "-rw-r--r--@ 1 spangher  staff     3B Jun 24 20:30 sample_htmls_to_download/https%3A%2F%2Fjaxcityc.granicus.com%2Fplayer%2Fclip%2F1109%3Fview_id%3D1%26redirect%3Dtrue.schedule.csv\n",
      "-rw-r--r--@ 1 spangher  staff   7.0K Jun 24 20:30 sample_htmls_to_download/https%3A%2F%2Fjaxcityc.granicus.com%2Fplayer%2Fclip%2F1658%3Fview_id%3D1%26redirect%3Dtrue.schedule.csv\n",
      "-rw-r--r--@ 1 spangher  staff     3B Jun 24 20:30 sample_htmls_to_download/https%3A%2F%2Fjaxcityc.granicus.com%2Fplayer%2Fclip%2F2312%3Fview_id%3D1%26redirect%3Dtrue.schedule.csv\n",
      "-rw-r--r--@ 1 spangher  staff    12K Jun 24 20:30 sample_htmls_to_download/https%3A%2F%2Fjaxcityc.granicus.com%2Fplayer%2Fclip%2F3141%3Fview_id%3D1%26redirect%3Dtrue.schedule.csv\n",
      "-rw-r--r--@ 1 spangher  staff   7.6K Jun 24 20:30 sample_htmls_to_download/https%3A%2F%2Fjaxcityc.granicus.com%2Fplayer%2Fclip%2F5466%3Fview_id%3D1%26redirect%3Dtrue.schedule.csv\n",
      "-rw-r--r--@ 1 spangher  staff    10K Jun 24 20:30 sample_htmls_to_download/https%3A%2F%2Fnewark.granicus.com%2FMediaPlayer.php%3Fview_id%3D2%26clip_id%3D292.schedule.csv\n",
      "-rw-r--r--@ 1 spangher  staff   4.0K Jun 24 20:30 sample_htmls_to_download/https%3A%2F%2Fnewark.granicus.com%2FMediaPlayer.php%3Fview_id%3D2%26clip_id%3D499.schedule.csv\n",
      "-rw-r--r--@ 1 spangher  staff    26K Jun 24 20:30 sample_htmls_to_download/https%3A%2F%2Fnewark.granicus.com%2FMediaPlayer.php%3Fview_id%3D2%26clip_id%3D526.schedule.csv\n",
      "-rw-r--r--@ 1 spangher  staff   5.8K Jun 24 20:30 sample_htmls_to_download/https%3A%2F%2Fnewark.granicus.com%2FMediaPlayer.php%3Fview_id%3D2%26clip_id%3D559.schedule.csv\n",
      "-rw-r--r--@ 1 spangher  staff   6.8K Jun 24 20:30 sample_htmls_to_download/https%3A%2F%2Fnewark.granicus.com%2FMediaPlayer.php%3Fview_id%3D2%26clip_id%3D620.schedule.csv\n",
      "-rw-r--r--@ 1 spangher  staff   157B Jun 24 20:30 sample_htmls_to_download/https%3A%2F%2Fseattlechannel.org%2FCouncilBriefings%2F%3Fvideoid%3Dx121864%26amp%3BMode2%3DVideo.schedule.csv\n",
      "-rw-r--r--@ 1 spangher  staff     3B Jun 24 20:30 sample_htmls_to_download/https%3A%2F%2Fseattlechannel.org%2Fmayor-and-council%2Fcity-council%2F2022-2023-public-safety-and-human-services%2F%3Fvideoid%3Dx137547%26amp%3BMode2%3DVideo.schedule.csv\n",
      "-rw-r--r--@ 1 spangher  staff     3B Jun 24 20:30 sample_htmls_to_download/https%3A%2F%2Fwww.seattlechannel.org%2FCouncilBriefings%3Fvideoid%3Dx100805%26amp%3BMode2%3DVideo.schedule.csv\n",
      "-rw-r--r--@ 1 spangher  staff   220B Jun 24 20:30 sample_htmls_to_download/https%3A%2F%2Fwww.seattlechannel.org%2Fmayor-and-council%2Fcity-council%2F2016%2F2017-gender-equity-safe-communities-and-new-americans-committee%3Fvideoid%3Dx84794%26amp%3BMode2%3DVideo.schedule.csv\n",
      "-rw-r--r--@ 1 spangher  staff     3B Jun 24 20:30 sample_htmls_to_download/https%3A%2F%2Fwww.seattlechannel.org%2Fvideos%3Fvideoid%3Dx108058%26amp%3BMode2%3DVideo.schedule.csv\n"
     ]
    }
   ],
   "source": [
    "! ls -lh sample_htmls_to_download/*schedule.csv"
   ]
  },
  {
   "cell_type": "code",
   "execution_count": null,
   "id": "5c1d4164-9bc2-495d-8934-2a01c34fefad",
   "metadata": {},
   "outputs": [],
   "source": []
  },
  {
   "cell_type": "code",
   "execution_count": null,
   "id": "f70d1047-e4a6-42ef-9110-9912fa0b1c01",
   "metadata": {},
   "outputs": [],
   "source": []
  },
  {
   "cell_type": "code",
   "execution_count": null,
   "id": "c768d869-01e1-43ae-98a5-4c0eb586366b",
   "metadata": {},
   "outputs": [],
   "source": []
  },
  {
   "cell_type": "code",
   "execution_count": null,
   "id": "7e82e85f-a0cf-4e97-98e8-69ab48ae538b",
   "metadata": {},
   "outputs": [],
   "source": []
  },
  {
   "cell_type": "code",
   "execution_count": null,
   "id": "8f2e1445-8ca7-4c8a-b9bc-e194bc24d02e",
   "metadata": {},
   "outputs": [],
   "source": []
  },
  {
   "cell_type": "code",
   "execution_count": null,
   "id": "7a637525-fcee-4dc2-b524-317c94d6c95b",
   "metadata": {},
   "outputs": [],
   "source": []
  }
 ],
 "metadata": {
  "kernelspec": {
   "display_name": "Python 3 (ipykernel)",
   "language": "python",
   "name": "python3"
  },
  "language_info": {
   "codemirror_mode": {
    "name": "ipython",
    "version": 3
   },
   "file_extension": ".py",
   "mimetype": "text/x-python",
   "name": "python",
   "nbconvert_exporter": "python",
   "pygments_lexer": "ipython3",
   "version": "3.12.2"
  }
 },
 "nbformat": 4,
 "nbformat_minor": 5
}
